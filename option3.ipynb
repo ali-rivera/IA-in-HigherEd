{
 "cells": [
  {
   "cell_type": "code",
   "execution_count": 21,
   "metadata": {},
   "outputs": [
    {
     "name": "stdout",
     "output_type": "stream",
     "text": [
      "Requirement already satisfied: langchain in /opt/miniconda3/lib/python3.12/site-packages (0.2.8)\n",
      "Requirement already satisfied: pydantic in /opt/miniconda3/lib/python3.12/site-packages (2.8.2)\n",
      "Requirement already satisfied: lxml in /opt/miniconda3/lib/python3.12/site-packages (5.2.2)\n",
      "Requirement already satisfied: unstructured[all-docs] in /opt/miniconda3/lib/python3.12/site-packages (0.14.10)\n",
      "Requirement already satisfied: PyYAML>=5.3 in /opt/miniconda3/lib/python3.12/site-packages (from langchain) (6.0.1)\n",
      "Requirement already satisfied: SQLAlchemy<3,>=1.4 in /opt/miniconda3/lib/python3.12/site-packages (from langchain) (2.0.31)\n",
      "Requirement already satisfied: aiohttp<4.0.0,>=3.8.3 in /opt/miniconda3/lib/python3.12/site-packages (from langchain) (3.9.5)\n",
      "Requirement already satisfied: langchain-core<0.3.0,>=0.2.19 in /opt/miniconda3/lib/python3.12/site-packages (from langchain) (0.2.20)\n",
      "Requirement already satisfied: langchain-text-splitters<0.3.0,>=0.2.0 in /opt/miniconda3/lib/python3.12/site-packages (from langchain) (0.2.2)\n",
      "Requirement already satisfied: langsmith<0.2.0,>=0.1.17 in /opt/miniconda3/lib/python3.12/site-packages (from langchain) (0.1.88)\n",
      "Requirement already satisfied: numpy<2.0.0,>=1.26.0 in /opt/miniconda3/lib/python3.12/site-packages (from langchain) (1.26.4)\n",
      "Requirement already satisfied: requests<3,>=2 in /opt/miniconda3/lib/python3.12/site-packages (from langchain) (2.32.2)\n",
      "Requirement already satisfied: tenacity!=8.4.0,<9.0.0,>=8.1.0 in /opt/miniconda3/lib/python3.12/site-packages (from langchain) (8.5.0)\n",
      "Requirement already satisfied: chardet in /opt/miniconda3/lib/python3.12/site-packages (from unstructured[all-docs]) (5.2.0)\n",
      "Requirement already satisfied: filetype in /opt/miniconda3/lib/python3.12/site-packages (from unstructured[all-docs]) (1.2.0)\n",
      "Requirement already satisfied: python-magic in /opt/miniconda3/lib/python3.12/site-packages (from unstructured[all-docs]) (0.4.27)\n",
      "Requirement already satisfied: nltk in /opt/miniconda3/lib/python3.12/site-packages (from unstructured[all-docs]) (3.8.1)\n",
      "Requirement already satisfied: tabulate in /opt/miniconda3/lib/python3.12/site-packages (from unstructured[all-docs]) (0.9.0)\n",
      "Requirement already satisfied: beautifulsoup4 in /opt/miniconda3/lib/python3.12/site-packages (from unstructured[all-docs]) (4.12.3)\n",
      "Requirement already satisfied: emoji in /opt/miniconda3/lib/python3.12/site-packages (from unstructured[all-docs]) (2.12.1)\n",
      "Requirement already satisfied: dataclasses-json in /opt/miniconda3/lib/python3.12/site-packages (from unstructured[all-docs]) (0.6.7)\n",
      "Requirement already satisfied: python-iso639 in /opt/miniconda3/lib/python3.12/site-packages (from unstructured[all-docs]) (2024.4.27)\n",
      "Requirement already satisfied: langdetect in /opt/miniconda3/lib/python3.12/site-packages (from unstructured[all-docs]) (1.0.9)\n",
      "Requirement already satisfied: rapidfuzz in /opt/miniconda3/lib/python3.12/site-packages (from unstructured[all-docs]) (3.9.4)\n",
      "Requirement already satisfied: backoff in /opt/miniconda3/lib/python3.12/site-packages (from unstructured[all-docs]) (2.2.1)\n",
      "Requirement already satisfied: typing-extensions in /opt/miniconda3/lib/python3.12/site-packages (from unstructured[all-docs]) (4.12.2)\n",
      "Requirement already satisfied: unstructured-client in /opt/miniconda3/lib/python3.12/site-packages (from unstructured[all-docs]) (0.24.1)\n",
      "Requirement already satisfied: wrapt in /opt/miniconda3/lib/python3.12/site-packages (from unstructured[all-docs]) (1.16.0)\n",
      "Requirement already satisfied: tqdm in /opt/miniconda3/lib/python3.12/site-packages (from unstructured[all-docs]) (4.66.4)\n",
      "Requirement already satisfied: psutil in /opt/miniconda3/lib/python3.12/site-packages (from unstructured[all-docs]) (6.0.0)\n",
      "Requirement already satisfied: pillow-heif in /opt/miniconda3/lib/python3.12/site-packages (from unstructured[all-docs]) (0.17.0)\n",
      "Requirement already satisfied: networkx in /opt/miniconda3/lib/python3.12/site-packages (from unstructured[all-docs]) (3.3)\n",
      "Requirement already satisfied: pypandoc in /opt/miniconda3/lib/python3.12/site-packages (from unstructured[all-docs]) (1.13)\n",
      "Requirement already satisfied: pdf2image in /opt/miniconda3/lib/python3.12/site-packages (from unstructured[all-docs]) (1.17.0)\n",
      "Requirement already satisfied: unstructured.pytesseract>=0.3.12 in /opt/miniconda3/lib/python3.12/site-packages (from unstructured[all-docs]) (0.3.12)\n",
      "Requirement already satisfied: python-oxmsg in /opt/miniconda3/lib/python3.12/site-packages (from unstructured[all-docs]) (0.0.1)\n",
      "Requirement already satisfied: pandas in /opt/miniconda3/lib/python3.12/site-packages (from unstructured[all-docs]) (2.2.2)\n",
      "Requirement already satisfied: pikepdf in /opt/miniconda3/lib/python3.12/site-packages (from unstructured[all-docs]) (9.0.0)\n",
      "Requirement already satisfied: effdet in /opt/miniconda3/lib/python3.12/site-packages (from unstructured[all-docs]) (0.4.1)\n",
      "Requirement already satisfied: pdfminer.six in /opt/miniconda3/lib/python3.12/site-packages (from unstructured[all-docs]) (20231228)\n",
      "Requirement already satisfied: google-cloud-vision in /opt/miniconda3/lib/python3.12/site-packages (from unstructured[all-docs]) (3.7.3)\n",
      "Requirement already satisfied: pypdf in /opt/miniconda3/lib/python3.12/site-packages (from unstructured[all-docs]) (4.3.0)\n",
      "Requirement already satisfied: openpyxl in /opt/miniconda3/lib/python3.12/site-packages (from unstructured[all-docs]) (3.1.5)\n",
      "Requirement already satisfied: unstructured-inference==0.7.36 in /opt/miniconda3/lib/python3.12/site-packages (from unstructured[all-docs]) (0.7.36)\n",
      "Requirement already satisfied: onnx in /opt/miniconda3/lib/python3.12/site-packages (from unstructured[all-docs]) (1.16.1)\n",
      "Requirement already satisfied: pytesseract in /opt/miniconda3/lib/python3.12/site-packages (from unstructured[all-docs]) (0.3.10)\n",
      "Requirement already satisfied: markdown in /opt/miniconda3/lib/python3.12/site-packages (from unstructured[all-docs]) (3.6)\n",
      "Requirement already satisfied: python-docx>=1.1.2 in /opt/miniconda3/lib/python3.12/site-packages (from unstructured[all-docs]) (1.1.2)\n",
      "Requirement already satisfied: python-pptx<=0.6.23 in /opt/miniconda3/lib/python3.12/site-packages (from unstructured[all-docs]) (0.6.23)\n",
      "Requirement already satisfied: xlrd in /opt/miniconda3/lib/python3.12/site-packages (from unstructured[all-docs]) (2.0.1)\n",
      "Requirement already satisfied: layoutparser in /opt/miniconda3/lib/python3.12/site-packages (from unstructured-inference==0.7.36->unstructured[all-docs]) (0.3.4)\n",
      "Requirement already satisfied: python-multipart in /opt/miniconda3/lib/python3.12/site-packages (from unstructured-inference==0.7.36->unstructured[all-docs]) (0.0.9)\n",
      "Requirement already satisfied: huggingface-hub in /opt/miniconda3/lib/python3.12/site-packages (from unstructured-inference==0.7.36->unstructured[all-docs]) (0.23.5)\n",
      "Requirement already satisfied: opencv-python!=4.7.0.68 in /opt/miniconda3/lib/python3.12/site-packages (from unstructured-inference==0.7.36->unstructured[all-docs]) (4.10.0.84)\n",
      "Requirement already satisfied: onnxruntime>=1.17.0 in /opt/miniconda3/lib/python3.12/site-packages (from unstructured-inference==0.7.36->unstructured[all-docs]) (1.18.1)\n",
      "Requirement already satisfied: matplotlib in /opt/miniconda3/lib/python3.12/site-packages (from unstructured-inference==0.7.36->unstructured[all-docs]) (3.9.1)\n",
      "Requirement already satisfied: torch in /opt/miniconda3/lib/python3.12/site-packages (from unstructured-inference==0.7.36->unstructured[all-docs]) (2.2.2)\n",
      "Requirement already satisfied: timm in /opt/miniconda3/lib/python3.12/site-packages (from unstructured-inference==0.7.36->unstructured[all-docs]) (1.0.7)\n",
      "Requirement already satisfied: transformers>=4.25.1 in /opt/miniconda3/lib/python3.12/site-packages (from unstructured-inference==0.7.36->unstructured[all-docs]) (4.42.4)\n",
      "Requirement already satisfied: annotated-types>=0.4.0 in /opt/miniconda3/lib/python3.12/site-packages (from pydantic) (0.7.0)\n",
      "Requirement already satisfied: pydantic-core==2.20.1 in /opt/miniconda3/lib/python3.12/site-packages (from pydantic) (2.20.1)\n",
      "Requirement already satisfied: aiosignal>=1.1.2 in /opt/miniconda3/lib/python3.12/site-packages (from aiohttp<4.0.0,>=3.8.3->langchain) (1.3.1)\n",
      "Requirement already satisfied: attrs>=17.3.0 in /opt/miniconda3/lib/python3.12/site-packages (from aiohttp<4.0.0,>=3.8.3->langchain) (23.2.0)\n",
      "Requirement already satisfied: frozenlist>=1.1.1 in /opt/miniconda3/lib/python3.12/site-packages (from aiohttp<4.0.0,>=3.8.3->langchain) (1.4.1)\n",
      "Requirement already satisfied: multidict<7.0,>=4.5 in /opt/miniconda3/lib/python3.12/site-packages (from aiohttp<4.0.0,>=3.8.3->langchain) (6.0.5)\n",
      "Requirement already satisfied: yarl<2.0,>=1.0 in /opt/miniconda3/lib/python3.12/site-packages (from aiohttp<4.0.0,>=3.8.3->langchain) (1.9.4)\n",
      "Requirement already satisfied: jsonpatch<2.0,>=1.33 in /opt/miniconda3/lib/python3.12/site-packages (from langchain-core<0.3.0,>=0.2.19->langchain) (1.33)\n",
      "Requirement already satisfied: packaging<25,>=23.2 in /opt/miniconda3/lib/python3.12/site-packages (from langchain-core<0.3.0,>=0.2.19->langchain) (23.2)\n",
      "Requirement already satisfied: orjson<4.0.0,>=3.9.14 in /opt/miniconda3/lib/python3.12/site-packages (from langsmith<0.2.0,>=0.1.17->langchain) (3.10.6)\n",
      "Requirement already satisfied: Pillow>=3.3.2 in /opt/miniconda3/lib/python3.12/site-packages (from python-pptx<=0.6.23->unstructured[all-docs]) (10.4.0)\n",
      "Requirement already satisfied: XlsxWriter>=0.5.7 in /opt/miniconda3/lib/python3.12/site-packages (from python-pptx<=0.6.23->unstructured[all-docs]) (3.2.0)\n",
      "Requirement already satisfied: charset-normalizer<4,>=2 in /opt/miniconda3/lib/python3.12/site-packages (from requests<3,>=2->langchain) (3.3.2)\n",
      "Requirement already satisfied: idna<4,>=2.5 in /opt/miniconda3/lib/python3.12/site-packages (from requests<3,>=2->langchain) (3.7)\n",
      "Requirement already satisfied: urllib3<3,>=1.21.1 in /opt/miniconda3/lib/python3.12/site-packages (from requests<3,>=2->langchain) (2.2.2)\n",
      "Requirement already satisfied: certifi>=2017.4.17 in /opt/miniconda3/lib/python3.12/site-packages (from requests<3,>=2->langchain) (2024.7.4)\n",
      "Requirement already satisfied: greenlet!=0.4.17 in /opt/miniconda3/lib/python3.12/site-packages (from SQLAlchemy<3,>=1.4->langchain) (3.0.3)\n",
      "Requirement already satisfied: soupsieve>1.2 in /opt/miniconda3/lib/python3.12/site-packages (from beautifulsoup4->unstructured[all-docs]) (2.5)\n",
      "Requirement already satisfied: marshmallow<4.0.0,>=3.18.0 in /opt/miniconda3/lib/python3.12/site-packages (from dataclasses-json->unstructured[all-docs]) (3.21.3)\n",
      "Requirement already satisfied: typing-inspect<1,>=0.4.0 in /opt/miniconda3/lib/python3.12/site-packages (from dataclasses-json->unstructured[all-docs]) (0.9.0)\n",
      "Requirement already satisfied: torchvision in /opt/miniconda3/lib/python3.12/site-packages (from effdet->unstructured[all-docs]) (0.17.2)\n",
      "Requirement already satisfied: pycocotools>=2.0.2 in /opt/miniconda3/lib/python3.12/site-packages (from effdet->unstructured[all-docs]) (2.0.8)\n",
      "Requirement already satisfied: omegaconf>=2.0 in /opt/miniconda3/lib/python3.12/site-packages (from effdet->unstructured[all-docs]) (2.3.0)\n",
      "Requirement already satisfied: google-api-core!=2.0.*,!=2.1.*,!=2.10.*,!=2.2.*,!=2.3.*,!=2.4.*,!=2.5.*,!=2.6.*,!=2.7.*,!=2.8.*,!=2.9.*,<3.0.0dev,>=1.34.1 in /opt/miniconda3/lib/python3.12/site-packages (from google-api-core[grpc]!=2.0.*,!=2.1.*,!=2.10.*,!=2.2.*,!=2.3.*,!=2.4.*,!=2.5.*,!=2.6.*,!=2.7.*,!=2.8.*,!=2.9.*,<3.0.0dev,>=1.34.1->google-cloud-vision->unstructured[all-docs]) (2.19.1)\n",
      "Requirement already satisfied: google-auth!=2.24.0,!=2.25.0,<3.0.0dev,>=2.14.1 in /opt/miniconda3/lib/python3.12/site-packages (from google-cloud-vision->unstructured[all-docs]) (2.32.0)\n",
      "Requirement already satisfied: proto-plus<2.0.0dev,>=1.22.3 in /opt/miniconda3/lib/python3.12/site-packages (from google-cloud-vision->unstructured[all-docs]) (1.24.0)\n",
      "Requirement already satisfied: protobuf!=4.21.0,!=4.21.1,!=4.21.2,!=4.21.3,!=4.21.4,!=4.21.5,<6.0.0dev,>=3.20.2 in /opt/miniconda3/lib/python3.12/site-packages (from google-cloud-vision->unstructured[all-docs]) (4.25.3)\n",
      "Requirement already satisfied: six in /opt/miniconda3/lib/python3.12/site-packages (from langdetect->unstructured[all-docs]) (1.16.0)\n",
      "Requirement already satisfied: click in /opt/miniconda3/lib/python3.12/site-packages (from nltk->unstructured[all-docs]) (8.1.7)\n",
      "Requirement already satisfied: joblib in /opt/miniconda3/lib/python3.12/site-packages (from nltk->unstructured[all-docs]) (1.4.2)\n",
      "Requirement already satisfied: regex>=2021.8.3 in /opt/miniconda3/lib/python3.12/site-packages (from nltk->unstructured[all-docs]) (2024.5.15)\n",
      "Requirement already satisfied: et-xmlfile in /opt/miniconda3/lib/python3.12/site-packages (from openpyxl->unstructured[all-docs]) (1.1.0)\n",
      "Requirement already satisfied: python-dateutil>=2.8.2 in /opt/miniconda3/lib/python3.12/site-packages (from pandas->unstructured[all-docs]) (2.9.0)\n",
      "Requirement already satisfied: pytz>=2020.1 in /opt/miniconda3/lib/python3.12/site-packages (from pandas->unstructured[all-docs]) (2024.1)\n",
      "Requirement already satisfied: tzdata>=2022.7 in /opt/miniconda3/lib/python3.12/site-packages (from pandas->unstructured[all-docs]) (2024.1)\n",
      "Requirement already satisfied: cryptography>=36.0.0 in /opt/miniconda3/lib/python3.12/site-packages (from pdfminer.six->unstructured[all-docs]) (42.0.5)\n",
      "Requirement already satisfied: Deprecated in /opt/miniconda3/lib/python3.12/site-packages (from pikepdf->unstructured[all-docs]) (1.2.14)\n",
      "Requirement already satisfied: olefile in /opt/miniconda3/lib/python3.12/site-packages (from python-oxmsg->unstructured[all-docs]) (0.47)\n",
      "Requirement already satisfied: deepdiff>=6.0 in /opt/miniconda3/lib/python3.12/site-packages (from unstructured-client->unstructured[all-docs]) (7.0.1)\n",
      "Requirement already satisfied: httpx>=0.27.0 in /opt/miniconda3/lib/python3.12/site-packages (from unstructured-client->unstructured[all-docs]) (0.27.0)\n",
      "Requirement already satisfied: jsonpath-python>=1.0.6 in /opt/miniconda3/lib/python3.12/site-packages (from unstructured-client->unstructured[all-docs]) (1.0.6)\n",
      "Requirement already satisfied: mypy-extensions>=1.0.0 in /opt/miniconda3/lib/python3.12/site-packages (from unstructured-client->unstructured[all-docs]) (1.0.0)\n",
      "Requirement already satisfied: nest-asyncio>=1.6.0 in /opt/miniconda3/lib/python3.12/site-packages (from unstructured-client->unstructured[all-docs]) (1.6.0)\n",
      "Requirement already satisfied: requests-toolbelt>=1.0.0 in /opt/miniconda3/lib/python3.12/site-packages (from unstructured-client->unstructured[all-docs]) (1.0.0)\n",
      "Requirement already satisfied: cffi>=1.12 in /opt/miniconda3/lib/python3.12/site-packages (from cryptography>=36.0.0->pdfminer.six->unstructured[all-docs]) (1.16.0)\n",
      "Requirement already satisfied: ordered-set<4.2.0,>=4.1.0 in /opt/miniconda3/lib/python3.12/site-packages (from deepdiff>=6.0->unstructured-client->unstructured[all-docs]) (4.1.0)\n",
      "Requirement already satisfied: googleapis-common-protos<2.0.dev0,>=1.56.2 in /opt/miniconda3/lib/python3.12/site-packages (from google-api-core!=2.0.*,!=2.1.*,!=2.10.*,!=2.2.*,!=2.3.*,!=2.4.*,!=2.5.*,!=2.6.*,!=2.7.*,!=2.8.*,!=2.9.*,<3.0.0dev,>=1.34.1->google-api-core[grpc]!=2.0.*,!=2.1.*,!=2.10.*,!=2.2.*,!=2.3.*,!=2.4.*,!=2.5.*,!=2.6.*,!=2.7.*,!=2.8.*,!=2.9.*,<3.0.0dev,>=1.34.1->google-cloud-vision->unstructured[all-docs]) (1.63.2)\n",
      "Requirement already satisfied: grpcio<2.0dev,>=1.33.2 in /opt/miniconda3/lib/python3.12/site-packages (from google-api-core[grpc]!=2.0.*,!=2.1.*,!=2.10.*,!=2.2.*,!=2.3.*,!=2.4.*,!=2.5.*,!=2.6.*,!=2.7.*,!=2.8.*,!=2.9.*,<3.0.0dev,>=1.34.1->google-cloud-vision->unstructured[all-docs]) (1.64.1)\n",
      "Requirement already satisfied: grpcio-status<2.0.dev0,>=1.33.2 in /opt/miniconda3/lib/python3.12/site-packages (from google-api-core[grpc]!=2.0.*,!=2.1.*,!=2.10.*,!=2.2.*,!=2.3.*,!=2.4.*,!=2.5.*,!=2.6.*,!=2.7.*,!=2.8.*,!=2.9.*,<3.0.0dev,>=1.34.1->google-cloud-vision->unstructured[all-docs]) (1.64.1)\n",
      "Requirement already satisfied: cachetools<6.0,>=2.0.0 in /opt/miniconda3/lib/python3.12/site-packages (from google-auth!=2.24.0,!=2.25.0,<3.0.0dev,>=2.14.1->google-cloud-vision->unstructured[all-docs]) (5.4.0)\n",
      "Requirement already satisfied: pyasn1-modules>=0.2.1 in /opt/miniconda3/lib/python3.12/site-packages (from google-auth!=2.24.0,!=2.25.0,<3.0.0dev,>=2.14.1->google-cloud-vision->unstructured[all-docs]) (0.4.0)\n",
      "Requirement already satisfied: rsa<5,>=3.1.4 in /opt/miniconda3/lib/python3.12/site-packages (from google-auth!=2.24.0,!=2.25.0,<3.0.0dev,>=2.14.1->google-cloud-vision->unstructured[all-docs]) (4.9)\n",
      "Requirement already satisfied: anyio in /opt/miniconda3/lib/python3.12/site-packages (from httpx>=0.27.0->unstructured-client->unstructured[all-docs]) (4.4.0)\n",
      "Requirement already satisfied: httpcore==1.* in /opt/miniconda3/lib/python3.12/site-packages (from httpx>=0.27.0->unstructured-client->unstructured[all-docs]) (1.0.5)\n",
      "Requirement already satisfied: sniffio in /opt/miniconda3/lib/python3.12/site-packages (from httpx>=0.27.0->unstructured-client->unstructured[all-docs]) (1.3.1)\n",
      "Requirement already satisfied: h11<0.15,>=0.13 in /opt/miniconda3/lib/python3.12/site-packages (from httpcore==1.*->httpx>=0.27.0->unstructured-client->unstructured[all-docs]) (0.14.0)\n",
      "Requirement already satisfied: jsonpointer>=1.9 in /opt/miniconda3/lib/python3.12/site-packages (from jsonpatch<2.0,>=1.33->langchain-core<0.3.0,>=0.2.19->langchain) (2.1)\n",
      "Requirement already satisfied: antlr4-python3-runtime==4.9.* in /opt/miniconda3/lib/python3.12/site-packages (from omegaconf>=2.0->effdet->unstructured[all-docs]) (4.9.3)\n",
      "Requirement already satisfied: coloredlogs in /opt/miniconda3/lib/python3.12/site-packages (from onnxruntime>=1.17.0->unstructured-inference==0.7.36->unstructured[all-docs]) (15.0.1)\n",
      "Requirement already satisfied: flatbuffers in /opt/miniconda3/lib/python3.12/site-packages (from onnxruntime>=1.17.0->unstructured-inference==0.7.36->unstructured[all-docs]) (24.3.25)\n",
      "Requirement already satisfied: sympy in /opt/miniconda3/lib/python3.12/site-packages (from onnxruntime>=1.17.0->unstructured-inference==0.7.36->unstructured[all-docs]) (1.13.0)\n",
      "Requirement already satisfied: contourpy>=1.0.1 in /opt/miniconda3/lib/python3.12/site-packages (from matplotlib->unstructured-inference==0.7.36->unstructured[all-docs]) (1.2.1)\n",
      "Requirement already satisfied: cycler>=0.10 in /opt/miniconda3/lib/python3.12/site-packages (from matplotlib->unstructured-inference==0.7.36->unstructured[all-docs]) (0.12.1)\n",
      "Requirement already satisfied: fonttools>=4.22.0 in /opt/miniconda3/lib/python3.12/site-packages (from matplotlib->unstructured-inference==0.7.36->unstructured[all-docs]) (4.53.1)\n",
      "Requirement already satisfied: kiwisolver>=1.3.1 in /opt/miniconda3/lib/python3.12/site-packages (from matplotlib->unstructured-inference==0.7.36->unstructured[all-docs]) (1.4.5)\n",
      "Requirement already satisfied: pyparsing>=2.3.1 in /opt/miniconda3/lib/python3.12/site-packages (from matplotlib->unstructured-inference==0.7.36->unstructured[all-docs]) (3.1.2)\n",
      "Requirement already satisfied: safetensors in /opt/miniconda3/lib/python3.12/site-packages (from timm->unstructured-inference==0.7.36->unstructured[all-docs]) (0.4.3)\n",
      "Requirement already satisfied: filelock in /opt/miniconda3/lib/python3.12/site-packages (from torch->unstructured-inference==0.7.36->unstructured[all-docs]) (3.15.4)\n",
      "Requirement already satisfied: jinja2 in /opt/miniconda3/lib/python3.12/site-packages (from torch->unstructured-inference==0.7.36->unstructured[all-docs]) (3.1.4)\n",
      "Requirement already satisfied: fsspec in /opt/miniconda3/lib/python3.12/site-packages (from torch->unstructured-inference==0.7.36->unstructured[all-docs]) (2024.6.1)\n",
      "Requirement already satisfied: tokenizers<0.20,>=0.19 in /opt/miniconda3/lib/python3.12/site-packages (from transformers>=4.25.1->unstructured-inference==0.7.36->unstructured[all-docs]) (0.19.1)\n",
      "Requirement already satisfied: scipy in /opt/miniconda3/lib/python3.12/site-packages (from layoutparser->unstructured-inference==0.7.36->unstructured[all-docs]) (1.14.0)\n",
      "Requirement already satisfied: iopath in /opt/miniconda3/lib/python3.12/site-packages (from layoutparser->unstructured-inference==0.7.36->unstructured[all-docs]) (0.1.10)\n",
      "Requirement already satisfied: pdfplumber in /opt/miniconda3/lib/python3.12/site-packages (from layoutparser->unstructured-inference==0.7.36->unstructured[all-docs]) (0.11.2)\n",
      "Requirement already satisfied: pycparser in /opt/miniconda3/lib/python3.12/site-packages (from cffi>=1.12->cryptography>=36.0.0->pdfminer.six->unstructured[all-docs]) (2.21)\n",
      "Collecting protobuf!=4.21.0,!=4.21.1,!=4.21.2,!=4.21.3,!=4.21.4,!=4.21.5,<6.0.0dev,>=3.20.2 (from google-cloud-vision->unstructured[all-docs])\n",
      "  Using cached protobuf-5.27.2-cp38-abi3-macosx_10_9_universal2.whl.metadata (592 bytes)\n",
      "Requirement already satisfied: pyasn1<0.7.0,>=0.4.6 in /opt/miniconda3/lib/python3.12/site-packages (from pyasn1-modules>=0.2.1->google-auth!=2.24.0,!=2.25.0,<3.0.0dev,>=2.14.1->google-cloud-vision->unstructured[all-docs]) (0.6.0)\n",
      "Requirement already satisfied: humanfriendly>=9.1 in /opt/miniconda3/lib/python3.12/site-packages (from coloredlogs->onnxruntime>=1.17.0->unstructured-inference==0.7.36->unstructured[all-docs]) (10.0)\n",
      "Requirement already satisfied: portalocker in /opt/miniconda3/lib/python3.12/site-packages (from iopath->layoutparser->unstructured-inference==0.7.36->unstructured[all-docs]) (2.10.1)\n",
      "Requirement already satisfied: MarkupSafe>=2.0 in /opt/miniconda3/lib/python3.12/site-packages (from jinja2->torch->unstructured-inference==0.7.36->unstructured[all-docs]) (2.1.5)\n",
      "Requirement already satisfied: pypdfium2>=4.18.0 in /opt/miniconda3/lib/python3.12/site-packages (from pdfplumber->layoutparser->unstructured-inference==0.7.36->unstructured[all-docs]) (4.30.0)\n",
      "Requirement already satisfied: mpmath<1.4,>=1.1.0 in /opt/miniconda3/lib/python3.12/site-packages (from sympy->onnxruntime>=1.17.0->unstructured-inference==0.7.36->unstructured[all-docs]) (1.3.0)\n",
      "Using cached protobuf-5.27.2-cp38-abi3-macosx_10_9_universal2.whl (412 kB)\n",
      "Installing collected packages: protobuf\n",
      "  Attempting uninstall: protobuf\n",
      "    Found existing installation: protobuf 4.25.3\n",
      "    Uninstalling protobuf-4.25.3:\n",
      "      Successfully uninstalled protobuf-4.25.3\n",
      "^C\n",
      "\u001b[31mERROR: Operation cancelled by user\u001b[0m\u001b[31m\n",
      "\u001b[0m"
     ]
    }
   ],
   "source": [
    "! pip install langchain \"unstructured[all-docs]\" pydantic lxml"
   ]
  },
  {
   "cell_type": "code",
   "execution_count": null,
   "metadata": {},
   "outputs": [
    {
     "name": "stdout",
     "output_type": "stream",
     "text": [
      "Requirement already satisfied: langchain in /opt/miniconda3/lib/python3.12/site-packages (0.2.8)\n",
      "Requirement already satisfied: openai in /opt/miniconda3/lib/python3.12/site-packages (1.35.14)\n",
      "Requirement already satisfied: chromadb in /opt/miniconda3/lib/python3.12/site-packages (0.5.4)\n",
      "Requirement already satisfied: langchain-experimental in /opt/miniconda3/lib/python3.12/site-packages (0.0.62)\n",
      "Requirement already satisfied: PyYAML>=5.3 in /opt/miniconda3/lib/python3.12/site-packages (from langchain) (6.0.1)\n",
      "Requirement already satisfied: SQLAlchemy<3,>=1.4 in /opt/miniconda3/lib/python3.12/site-packages (from langchain) (2.0.31)\n",
      "Requirement already satisfied: aiohttp<4.0.0,>=3.8.3 in /opt/miniconda3/lib/python3.12/site-packages (from langchain) (3.9.5)\n",
      "Requirement already satisfied: langchain-core<0.3.0,>=0.2.19 in /opt/miniconda3/lib/python3.12/site-packages (from langchain) (0.2.20)\n",
      "Requirement already satisfied: langchain-text-splitters<0.3.0,>=0.2.0 in /opt/miniconda3/lib/python3.12/site-packages (from langchain) (0.2.2)\n",
      "Requirement already satisfied: langsmith<0.2.0,>=0.1.17 in /opt/miniconda3/lib/python3.12/site-packages (from langchain) (0.1.88)\n",
      "Requirement already satisfied: numpy<2.0.0,>=1.26.0 in /opt/miniconda3/lib/python3.12/site-packages (from langchain) (1.26.4)\n",
      "Requirement already satisfied: pydantic<3,>=1 in /opt/miniconda3/lib/python3.12/site-packages (from langchain) (2.8.2)\n",
      "Requirement already satisfied: requests<3,>=2 in /opt/miniconda3/lib/python3.12/site-packages (from langchain) (2.32.2)\n",
      "Requirement already satisfied: tenacity!=8.4.0,<9.0.0,>=8.1.0 in /opt/miniconda3/lib/python3.12/site-packages (from langchain) (8.5.0)\n",
      "Requirement already satisfied: anyio<5,>=3.5.0 in /opt/miniconda3/lib/python3.12/site-packages (from openai) (4.4.0)\n",
      "Requirement already satisfied: distro<2,>=1.7.0 in /opt/miniconda3/lib/python3.12/site-packages (from openai) (1.9.0)\n",
      "Requirement already satisfied: httpx<1,>=0.23.0 in /opt/miniconda3/lib/python3.12/site-packages (from openai) (0.27.0)\n",
      "Requirement already satisfied: sniffio in /opt/miniconda3/lib/python3.12/site-packages (from openai) (1.3.1)\n",
      "Requirement already satisfied: tqdm>4 in /opt/miniconda3/lib/python3.12/site-packages (from openai) (4.66.4)\n",
      "Requirement already satisfied: typing-extensions<5,>=4.7 in /opt/miniconda3/lib/python3.12/site-packages (from openai) (4.12.2)\n",
      "Requirement already satisfied: build>=1.0.3 in /opt/miniconda3/lib/python3.12/site-packages (from chromadb) (1.2.1)\n",
      "Requirement already satisfied: chroma-hnswlib==0.7.5 in /opt/miniconda3/lib/python3.12/site-packages (from chromadb) (0.7.5)\n",
      "Requirement already satisfied: fastapi>=0.95.2 in /opt/miniconda3/lib/python3.12/site-packages (from chromadb) (0.111.1)\n",
      "Requirement already satisfied: uvicorn>=0.18.3 in /opt/miniconda3/lib/python3.12/site-packages (from uvicorn[standard]>=0.18.3->chromadb) (0.30.1)\n",
      "Requirement already satisfied: posthog>=2.4.0 in /opt/miniconda3/lib/python3.12/site-packages (from chromadb) (3.5.0)\n",
      "Requirement already satisfied: onnxruntime>=1.14.1 in /opt/miniconda3/lib/python3.12/site-packages (from chromadb) (1.18.1)\n",
      "Requirement already satisfied: opentelemetry-api>=1.2.0 in /opt/miniconda3/lib/python3.12/site-packages (from chromadb) (1.25.0)\n",
      "Requirement already satisfied: opentelemetry-exporter-otlp-proto-grpc>=1.2.0 in /opt/miniconda3/lib/python3.12/site-packages (from chromadb) (1.25.0)\n",
      "Requirement already satisfied: opentelemetry-instrumentation-fastapi>=0.41b0 in /opt/miniconda3/lib/python3.12/site-packages (from chromadb) (0.46b0)\n",
      "Requirement already satisfied: opentelemetry-sdk>=1.2.0 in /opt/miniconda3/lib/python3.12/site-packages (from chromadb) (1.25.0)\n",
      "Requirement already satisfied: tokenizers>=0.13.2 in /opt/miniconda3/lib/python3.12/site-packages (from chromadb) (0.19.1)\n",
      "Requirement already satisfied: pypika>=0.48.9 in /opt/miniconda3/lib/python3.12/site-packages (from chromadb) (0.48.9)\n",
      "Requirement already satisfied: overrides>=7.3.1 in /opt/miniconda3/lib/python3.12/site-packages (from chromadb) (7.7.0)\n",
      "Requirement already satisfied: importlib-resources in /opt/miniconda3/lib/python3.12/site-packages (from chromadb) (6.4.0)\n",
      "Requirement already satisfied: grpcio>=1.58.0 in /opt/miniconda3/lib/python3.12/site-packages (from chromadb) (1.64.1)\n",
      "Requirement already satisfied: bcrypt>=4.0.1 in /opt/miniconda3/lib/python3.12/site-packages (from chromadb) (4.1.3)\n",
      "Requirement already satisfied: typer>=0.9.0 in /opt/miniconda3/lib/python3.12/site-packages (from chromadb) (0.12.3)\n",
      "Requirement already satisfied: kubernetes>=28.1.0 in /opt/miniconda3/lib/python3.12/site-packages (from chromadb) (30.1.0)\n",
      "Requirement already satisfied: mmh3>=4.0.1 in /opt/miniconda3/lib/python3.12/site-packages (from chromadb) (4.1.0)\n",
      "Requirement already satisfied: orjson>=3.9.12 in /opt/miniconda3/lib/python3.12/site-packages (from chromadb) (3.10.6)\n",
      "Requirement already satisfied: langchain-community<0.3.0,>=0.2.6 in /opt/miniconda3/lib/python3.12/site-packages (from langchain-experimental) (0.2.7)\n",
      "Requirement already satisfied: aiosignal>=1.1.2 in /opt/miniconda3/lib/python3.12/site-packages (from aiohttp<4.0.0,>=3.8.3->langchain) (1.3.1)\n",
      "Requirement already satisfied: attrs>=17.3.0 in /opt/miniconda3/lib/python3.12/site-packages (from aiohttp<4.0.0,>=3.8.3->langchain) (23.2.0)\n",
      "Requirement already satisfied: frozenlist>=1.1.1 in /opt/miniconda3/lib/python3.12/site-packages (from aiohttp<4.0.0,>=3.8.3->langchain) (1.4.1)\n",
      "Requirement already satisfied: multidict<7.0,>=4.5 in /opt/miniconda3/lib/python3.12/site-packages (from aiohttp<4.0.0,>=3.8.3->langchain) (6.0.5)\n",
      "Requirement already satisfied: yarl<2.0,>=1.0 in /opt/miniconda3/lib/python3.12/site-packages (from aiohttp<4.0.0,>=3.8.3->langchain) (1.9.4)\n",
      "Requirement already satisfied: idna>=2.8 in /opt/miniconda3/lib/python3.12/site-packages (from anyio<5,>=3.5.0->openai) (3.7)\n",
      "Requirement already satisfied: packaging>=19.1 in /opt/miniconda3/lib/python3.12/site-packages (from build>=1.0.3->chromadb) (23.2)\n",
      "Requirement already satisfied: pyproject_hooks in /opt/miniconda3/lib/python3.12/site-packages (from build>=1.0.3->chromadb) (1.1.0)\n",
      "Requirement already satisfied: starlette<0.38.0,>=0.37.2 in /opt/miniconda3/lib/python3.12/site-packages (from fastapi>=0.95.2->chromadb) (0.37.2)\n",
      "Requirement already satisfied: fastapi-cli>=0.0.2 in /opt/miniconda3/lib/python3.12/site-packages (from fastapi>=0.95.2->chromadb) (0.0.4)\n",
      "Requirement already satisfied: jinja2>=2.11.2 in /opt/miniconda3/lib/python3.12/site-packages (from fastapi>=0.95.2->chromadb) (3.1.4)\n",
      "Requirement already satisfied: python-multipart>=0.0.7 in /opt/miniconda3/lib/python3.12/site-packages (from fastapi>=0.95.2->chromadb) (0.0.9)\n",
      "Requirement already satisfied: email_validator>=2.0.0 in /opt/miniconda3/lib/python3.12/site-packages (from fastapi>=0.95.2->chromadb) (2.2.0)\n",
      "Requirement already satisfied: certifi in /opt/miniconda3/lib/python3.12/site-packages (from httpx<1,>=0.23.0->openai) (2024.7.4)\n",
      "Requirement already satisfied: httpcore==1.* in /opt/miniconda3/lib/python3.12/site-packages (from httpx<1,>=0.23.0->openai) (1.0.5)\n",
      "Requirement already satisfied: h11<0.15,>=0.13 in /opt/miniconda3/lib/python3.12/site-packages (from httpcore==1.*->httpx<1,>=0.23.0->openai) (0.14.0)\n",
      "Requirement already satisfied: six>=1.9.0 in /opt/miniconda3/lib/python3.12/site-packages (from kubernetes>=28.1.0->chromadb) (1.16.0)\n",
      "Requirement already satisfied: python-dateutil>=2.5.3 in /opt/miniconda3/lib/python3.12/site-packages (from kubernetes>=28.1.0->chromadb) (2.9.0)\n",
      "Requirement already satisfied: google-auth>=1.0.1 in /opt/miniconda3/lib/python3.12/site-packages (from kubernetes>=28.1.0->chromadb) (2.32.0)\n",
      "Requirement already satisfied: websocket-client!=0.40.0,!=0.41.*,!=0.42.*,>=0.32.0 in /opt/miniconda3/lib/python3.12/site-packages (from kubernetes>=28.1.0->chromadb) (1.8.0)\n",
      "Requirement already satisfied: requests-oauthlib in /opt/miniconda3/lib/python3.12/site-packages (from kubernetes>=28.1.0->chromadb) (2.0.0)\n",
      "Requirement already satisfied: oauthlib>=3.2.2 in /opt/miniconda3/lib/python3.12/site-packages (from kubernetes>=28.1.0->chromadb) (3.2.2)\n",
      "Requirement already satisfied: urllib3>=1.24.2 in /opt/miniconda3/lib/python3.12/site-packages (from kubernetes>=28.1.0->chromadb) (2.2.2)\n",
      "Requirement already satisfied: dataclasses-json<0.7,>=0.5.7 in /opt/miniconda3/lib/python3.12/site-packages (from langchain-community<0.3.0,>=0.2.6->langchain-experimental) (0.6.7)\n",
      "Requirement already satisfied: jsonpatch<2.0,>=1.33 in /opt/miniconda3/lib/python3.12/site-packages (from langchain-core<0.3.0,>=0.2.19->langchain) (1.33)\n",
      "Requirement already satisfied: coloredlogs in /opt/miniconda3/lib/python3.12/site-packages (from onnxruntime>=1.14.1->chromadb) (15.0.1)\n",
      "Requirement already satisfied: flatbuffers in /opt/miniconda3/lib/python3.12/site-packages (from onnxruntime>=1.14.1->chromadb) (24.3.25)\n",
      "Requirement already satisfied: protobuf in /opt/miniconda3/lib/python3.12/site-packages (from onnxruntime>=1.14.1->chromadb) (5.27.2)\n",
      "Requirement already satisfied: sympy in /opt/miniconda3/lib/python3.12/site-packages (from onnxruntime>=1.14.1->chromadb) (1.13.0)\n",
      "Requirement already satisfied: deprecated>=1.2.6 in /opt/miniconda3/lib/python3.12/site-packages (from opentelemetry-api>=1.2.0->chromadb) (1.2.14)\n",
      "Requirement already satisfied: importlib-metadata<=7.1,>=6.0 in /opt/miniconda3/lib/python3.12/site-packages (from opentelemetry-api>=1.2.0->chromadb) (7.1.0)\n",
      "Requirement already satisfied: googleapis-common-protos~=1.52 in /opt/miniconda3/lib/python3.12/site-packages (from opentelemetry-exporter-otlp-proto-grpc>=1.2.0->chromadb) (1.63.2)\n",
      "Requirement already satisfied: opentelemetry-exporter-otlp-proto-common==1.25.0 in /opt/miniconda3/lib/python3.12/site-packages (from opentelemetry-exporter-otlp-proto-grpc>=1.2.0->chromadb) (1.25.0)\n",
      "Requirement already satisfied: opentelemetry-proto==1.25.0 in /opt/miniconda3/lib/python3.12/site-packages (from opentelemetry-exporter-otlp-proto-grpc>=1.2.0->chromadb) (1.25.0)\n",
      "Collecting protobuf (from onnxruntime>=1.14.1->chromadb)\n",
      "  Using cached protobuf-4.25.3-cp37-abi3-macosx_10_9_universal2.whl.metadata (541 bytes)\n",
      "Requirement already satisfied: opentelemetry-instrumentation-asgi==0.46b0 in /opt/miniconda3/lib/python3.12/site-packages (from opentelemetry-instrumentation-fastapi>=0.41b0->chromadb) (0.46b0)\n",
      "Requirement already satisfied: opentelemetry-instrumentation==0.46b0 in /opt/miniconda3/lib/python3.12/site-packages (from opentelemetry-instrumentation-fastapi>=0.41b0->chromadb) (0.46b0)\n",
      "Requirement already satisfied: opentelemetry-semantic-conventions==0.46b0 in /opt/miniconda3/lib/python3.12/site-packages (from opentelemetry-instrumentation-fastapi>=0.41b0->chromadb) (0.46b0)\n",
      "Requirement already satisfied: opentelemetry-util-http==0.46b0 in /opt/miniconda3/lib/python3.12/site-packages (from opentelemetry-instrumentation-fastapi>=0.41b0->chromadb) (0.46b0)\n",
      "Requirement already satisfied: setuptools>=16.0 in /opt/miniconda3/lib/python3.12/site-packages (from opentelemetry-instrumentation==0.46b0->opentelemetry-instrumentation-fastapi>=0.41b0->chromadb) (69.5.1)\n",
      "Requirement already satisfied: wrapt<2.0.0,>=1.0.0 in /opt/miniconda3/lib/python3.12/site-packages (from opentelemetry-instrumentation==0.46b0->opentelemetry-instrumentation-fastapi>=0.41b0->chromadb) (1.16.0)\n",
      "Requirement already satisfied: asgiref~=3.0 in /opt/miniconda3/lib/python3.12/site-packages (from opentelemetry-instrumentation-asgi==0.46b0->opentelemetry-instrumentation-fastapi>=0.41b0->chromadb) (3.8.1)\n",
      "Requirement already satisfied: monotonic>=1.5 in /opt/miniconda3/lib/python3.12/site-packages (from posthog>=2.4.0->chromadb) (1.6)\n",
      "Requirement already satisfied: backoff>=1.10.0 in /opt/miniconda3/lib/python3.12/site-packages (from posthog>=2.4.0->chromadb) (2.2.1)\n",
      "Requirement already satisfied: annotated-types>=0.4.0 in /opt/miniconda3/lib/python3.12/site-packages (from pydantic<3,>=1->langchain) (0.7.0)\n",
      "Requirement already satisfied: pydantic-core==2.20.1 in /opt/miniconda3/lib/python3.12/site-packages (from pydantic<3,>=1->langchain) (2.20.1)\n",
      "Requirement already satisfied: charset-normalizer<4,>=2 in /opt/miniconda3/lib/python3.12/site-packages (from requests<3,>=2->langchain) (3.3.2)\n",
      "Requirement already satisfied: greenlet!=0.4.17 in /opt/miniconda3/lib/python3.12/site-packages (from SQLAlchemy<3,>=1.4->langchain) (3.0.3)\n",
      "Requirement already satisfied: huggingface-hub<1.0,>=0.16.4 in /opt/miniconda3/lib/python3.12/site-packages (from tokenizers>=0.13.2->chromadb) (0.23.5)\n",
      "Requirement already satisfied: click>=8.0.0 in /opt/miniconda3/lib/python3.12/site-packages (from typer>=0.9.0->chromadb) (8.1.7)\n",
      "Requirement already satisfied: shellingham>=1.3.0 in /opt/miniconda3/lib/python3.12/site-packages (from typer>=0.9.0->chromadb) (1.5.4)\n",
      "Requirement already satisfied: rich>=10.11.0 in /opt/miniconda3/lib/python3.12/site-packages (from typer>=0.9.0->chromadb) (13.7.1)\n",
      "Requirement already satisfied: httptools>=0.5.0 in /opt/miniconda3/lib/python3.12/site-packages (from uvicorn[standard]>=0.18.3->chromadb) (0.6.1)\n",
      "Requirement already satisfied: python-dotenv>=0.13 in /opt/miniconda3/lib/python3.12/site-packages (from uvicorn[standard]>=0.18.3->chromadb) (1.0.1)\n",
      "Requirement already satisfied: uvloop!=0.15.0,!=0.15.1,>=0.14.0 in /opt/miniconda3/lib/python3.12/site-packages (from uvicorn[standard]>=0.18.3->chromadb) (0.19.0)\n",
      "Requirement already satisfied: watchfiles>=0.13 in /opt/miniconda3/lib/python3.12/site-packages (from uvicorn[standard]>=0.18.3->chromadb) (0.22.0)\n",
      "Requirement already satisfied: websockets>=10.4 in /opt/miniconda3/lib/python3.12/site-packages (from uvicorn[standard]>=0.18.3->chromadb) (12.0)\n",
      "Requirement already satisfied: marshmallow<4.0.0,>=3.18.0 in /opt/miniconda3/lib/python3.12/site-packages (from dataclasses-json<0.7,>=0.5.7->langchain-community<0.3.0,>=0.2.6->langchain-experimental) (3.21.3)\n",
      "Requirement already satisfied: typing-inspect<1,>=0.4.0 in /opt/miniconda3/lib/python3.12/site-packages (from dataclasses-json<0.7,>=0.5.7->langchain-community<0.3.0,>=0.2.6->langchain-experimental) (0.9.0)\n",
      "Requirement already satisfied: dnspython>=2.0.0 in /opt/miniconda3/lib/python3.12/site-packages (from email_validator>=2.0.0->fastapi>=0.95.2->chromadb) (2.6.1)\n",
      "Requirement already satisfied: cachetools<6.0,>=2.0.0 in /opt/miniconda3/lib/python3.12/site-packages (from google-auth>=1.0.1->kubernetes>=28.1.0->chromadb) (5.4.0)\n",
      "Requirement already satisfied: pyasn1-modules>=0.2.1 in /opt/miniconda3/lib/python3.12/site-packages (from google-auth>=1.0.1->kubernetes>=28.1.0->chromadb) (0.4.0)\n",
      "Requirement already satisfied: rsa<5,>=3.1.4 in /opt/miniconda3/lib/python3.12/site-packages (from google-auth>=1.0.1->kubernetes>=28.1.0->chromadb) (4.9)\n",
      "Requirement already satisfied: filelock in /opt/miniconda3/lib/python3.12/site-packages (from huggingface-hub<1.0,>=0.16.4->tokenizers>=0.13.2->chromadb) (3.15.4)\n",
      "Requirement already satisfied: fsspec>=2023.5.0 in /opt/miniconda3/lib/python3.12/site-packages (from huggingface-hub<1.0,>=0.16.4->tokenizers>=0.13.2->chromadb) (2024.6.1)\n",
      "Requirement already satisfied: zipp>=0.5 in /opt/miniconda3/lib/python3.12/site-packages (from importlib-metadata<=7.1,>=6.0->opentelemetry-api>=1.2.0->chromadb) (3.19.2)\n",
      "Requirement already satisfied: MarkupSafe>=2.0 in /opt/miniconda3/lib/python3.12/site-packages (from jinja2>=2.11.2->fastapi>=0.95.2->chromadb) (2.1.5)\n",
      "Requirement already satisfied: jsonpointer>=1.9 in /opt/miniconda3/lib/python3.12/site-packages (from jsonpatch<2.0,>=1.33->langchain-core<0.3.0,>=0.2.19->langchain) (2.1)\n",
      "Requirement already satisfied: markdown-it-py>=2.2.0 in /opt/miniconda3/lib/python3.12/site-packages (from rich>=10.11.0->typer>=0.9.0->chromadb) (3.0.0)\n",
      "Requirement already satisfied: pygments<3.0.0,>=2.13.0 in /opt/miniconda3/lib/python3.12/site-packages (from rich>=10.11.0->typer>=0.9.0->chromadb) (2.18.0)\n",
      "Requirement already satisfied: humanfriendly>=9.1 in /opt/miniconda3/lib/python3.12/site-packages (from coloredlogs->onnxruntime>=1.14.1->chromadb) (10.0)\n",
      "Requirement already satisfied: mpmath<1.4,>=1.1.0 in /opt/miniconda3/lib/python3.12/site-packages (from sympy->onnxruntime>=1.14.1->chromadb) (1.3.0)\n",
      "Requirement already satisfied: mdurl~=0.1 in /opt/miniconda3/lib/python3.12/site-packages (from markdown-it-py>=2.2.0->rich>=10.11.0->typer>=0.9.0->chromadb) (0.1.2)\n",
      "Requirement already satisfied: pyasn1<0.7.0,>=0.4.6 in /opt/miniconda3/lib/python3.12/site-packages (from pyasn1-modules>=0.2.1->google-auth>=1.0.1->kubernetes>=28.1.0->chromadb) (0.6.0)\n",
      "Requirement already satisfied: mypy-extensions>=0.3.0 in /opt/miniconda3/lib/python3.12/site-packages (from typing-inspect<1,>=0.4.0->dataclasses-json<0.7,>=0.5.7->langchain-community<0.3.0,>=0.2.6->langchain-experimental) (1.0.0)\n",
      "Using cached protobuf-4.25.3-cp37-abi3-macosx_10_9_universal2.whl (394 kB)\n",
      "Installing collected packages: protobuf\n",
      "  Attempting uninstall: protobuf\n",
      "    Found existing installation: protobuf 5.27.2\n",
      "    Uninstalling protobuf-5.27.2:\n",
      "      Successfully uninstalled protobuf-5.27.2\n",
      "\u001b[31mERROR: pip's dependency resolver does not currently take into account all the packages that are installed. This behaviour is the source of the following dependency conflicts.\n",
      "grpcio-status 1.64.1 requires protobuf<6.0dev,>=5.26.1, but you have protobuf 4.25.3 which is incompatible.\u001b[0m\u001b[31m\n",
      "\u001b[0mSuccessfully installed protobuf-4.25.3\n"
     ]
    }
   ],
   "source": [
    "! pip install -U langchain openai chromadb langchain-experimental # (newest versions required for multi-modal)"
   ]
  },
  {
   "cell_type": "code",
   "execution_count": null,
   "metadata": {},
   "outputs": [
    {
     "name": "stdout",
     "output_type": "stream",
     "text": [
      "Requirement already satisfied: pillow in /opt/miniconda3/lib/python3.12/site-packages (10.4.0)\n",
      "Requirement already satisfied: pydantic in /opt/miniconda3/lib/python3.12/site-packages (2.8.2)\n",
      "Requirement already satisfied: lxml in /opt/miniconda3/lib/python3.12/site-packages (5.2.2)\n",
      "Requirement already satisfied: matplotlib in /opt/miniconda3/lib/python3.12/site-packages (3.9.1)\n",
      "Requirement already satisfied: chromadb in /opt/miniconda3/lib/python3.12/site-packages (0.5.4)\n",
      "Requirement already satisfied: tiktoken in /opt/miniconda3/lib/python3.12/site-packages (0.7.0)\n",
      "Requirement already satisfied: annotated-types>=0.4.0 in /opt/miniconda3/lib/python3.12/site-packages (from pydantic) (0.7.0)\n",
      "Requirement already satisfied: pydantic-core==2.20.1 in /opt/miniconda3/lib/python3.12/site-packages (from pydantic) (2.20.1)\n",
      "Requirement already satisfied: typing-extensions>=4.6.1 in /opt/miniconda3/lib/python3.12/site-packages (from pydantic) (4.12.2)\n",
      "Requirement already satisfied: contourpy>=1.0.1 in /opt/miniconda3/lib/python3.12/site-packages (from matplotlib) (1.2.1)\n",
      "Requirement already satisfied: cycler>=0.10 in /opt/miniconda3/lib/python3.12/site-packages (from matplotlib) (0.12.1)\n",
      "Requirement already satisfied: fonttools>=4.22.0 in /opt/miniconda3/lib/python3.12/site-packages (from matplotlib) (4.53.1)\n",
      "Requirement already satisfied: kiwisolver>=1.3.1 in /opt/miniconda3/lib/python3.12/site-packages (from matplotlib) (1.4.5)\n",
      "Requirement already satisfied: numpy>=1.23 in /opt/miniconda3/lib/python3.12/site-packages (from matplotlib) (1.26.4)\n",
      "Requirement already satisfied: packaging>=20.0 in /opt/miniconda3/lib/python3.12/site-packages (from matplotlib) (23.2)\n",
      "Requirement already satisfied: pyparsing>=2.3.1 in /opt/miniconda3/lib/python3.12/site-packages (from matplotlib) (3.1.2)\n",
      "Requirement already satisfied: python-dateutil>=2.7 in /opt/miniconda3/lib/python3.12/site-packages (from matplotlib) (2.9.0)\n",
      "Requirement already satisfied: build>=1.0.3 in /opt/miniconda3/lib/python3.12/site-packages (from chromadb) (1.2.1)\n",
      "Requirement already satisfied: chroma-hnswlib==0.7.5 in /opt/miniconda3/lib/python3.12/site-packages (from chromadb) (0.7.5)\n",
      "Requirement already satisfied: fastapi>=0.95.2 in /opt/miniconda3/lib/python3.12/site-packages (from chromadb) (0.111.1)\n",
      "Requirement already satisfied: uvicorn>=0.18.3 in /opt/miniconda3/lib/python3.12/site-packages (from uvicorn[standard]>=0.18.3->chromadb) (0.30.1)\n",
      "Requirement already satisfied: posthog>=2.4.0 in /opt/miniconda3/lib/python3.12/site-packages (from chromadb) (3.5.0)\n",
      "Requirement already satisfied: onnxruntime>=1.14.1 in /opt/miniconda3/lib/python3.12/site-packages (from chromadb) (1.18.1)\n",
      "Requirement already satisfied: opentelemetry-api>=1.2.0 in /opt/miniconda3/lib/python3.12/site-packages (from chromadb) (1.25.0)\n",
      "Requirement already satisfied: opentelemetry-exporter-otlp-proto-grpc>=1.2.0 in /opt/miniconda3/lib/python3.12/site-packages (from chromadb) (1.25.0)\n",
      "Requirement already satisfied: opentelemetry-instrumentation-fastapi>=0.41b0 in /opt/miniconda3/lib/python3.12/site-packages (from chromadb) (0.46b0)\n",
      "Requirement already satisfied: opentelemetry-sdk>=1.2.0 in /opt/miniconda3/lib/python3.12/site-packages (from chromadb) (1.25.0)\n",
      "Requirement already satisfied: tokenizers>=0.13.2 in /opt/miniconda3/lib/python3.12/site-packages (from chromadb) (0.19.1)\n",
      "Requirement already satisfied: pypika>=0.48.9 in /opt/miniconda3/lib/python3.12/site-packages (from chromadb) (0.48.9)\n",
      "Requirement already satisfied: tqdm>=4.65.0 in /opt/miniconda3/lib/python3.12/site-packages (from chromadb) (4.66.4)\n",
      "Requirement already satisfied: overrides>=7.3.1 in /opt/miniconda3/lib/python3.12/site-packages (from chromadb) (7.7.0)\n",
      "Requirement already satisfied: importlib-resources in /opt/miniconda3/lib/python3.12/site-packages (from chromadb) (6.4.0)\n",
      "Requirement already satisfied: grpcio>=1.58.0 in /opt/miniconda3/lib/python3.12/site-packages (from chromadb) (1.64.1)\n",
      "Requirement already satisfied: bcrypt>=4.0.1 in /opt/miniconda3/lib/python3.12/site-packages (from chromadb) (4.1.3)\n",
      "Requirement already satisfied: typer>=0.9.0 in /opt/miniconda3/lib/python3.12/site-packages (from chromadb) (0.12.3)\n",
      "Requirement already satisfied: kubernetes>=28.1.0 in /opt/miniconda3/lib/python3.12/site-packages (from chromadb) (30.1.0)\n",
      "Requirement already satisfied: tenacity>=8.2.3 in /opt/miniconda3/lib/python3.12/site-packages (from chromadb) (8.5.0)\n",
      "Requirement already satisfied: PyYAML>=6.0.0 in /opt/miniconda3/lib/python3.12/site-packages (from chromadb) (6.0.1)\n",
      "Requirement already satisfied: mmh3>=4.0.1 in /opt/miniconda3/lib/python3.12/site-packages (from chromadb) (4.1.0)\n",
      "Requirement already satisfied: orjson>=3.9.12 in /opt/miniconda3/lib/python3.12/site-packages (from chromadb) (3.10.6)\n",
      "Requirement already satisfied: httpx>=0.27.0 in /opt/miniconda3/lib/python3.12/site-packages (from chromadb) (0.27.0)\n",
      "Requirement already satisfied: regex>=2022.1.18 in /opt/miniconda3/lib/python3.12/site-packages (from tiktoken) (2024.5.15)\n",
      "Requirement already satisfied: requests>=2.26.0 in /opt/miniconda3/lib/python3.12/site-packages (from tiktoken) (2.32.2)\n",
      "Requirement already satisfied: pyproject_hooks in /opt/miniconda3/lib/python3.12/site-packages (from build>=1.0.3->chromadb) (1.1.0)\n",
      "Requirement already satisfied: starlette<0.38.0,>=0.37.2 in /opt/miniconda3/lib/python3.12/site-packages (from fastapi>=0.95.2->chromadb) (0.37.2)\n",
      "Requirement already satisfied: fastapi-cli>=0.0.2 in /opt/miniconda3/lib/python3.12/site-packages (from fastapi>=0.95.2->chromadb) (0.0.4)\n",
      "Requirement already satisfied: jinja2>=2.11.2 in /opt/miniconda3/lib/python3.12/site-packages (from fastapi>=0.95.2->chromadb) (3.1.4)\n",
      "Requirement already satisfied: python-multipart>=0.0.7 in /opt/miniconda3/lib/python3.12/site-packages (from fastapi>=0.95.2->chromadb) (0.0.9)\n",
      "Requirement already satisfied: email_validator>=2.0.0 in /opt/miniconda3/lib/python3.12/site-packages (from fastapi>=0.95.2->chromadb) (2.2.0)\n",
      "Requirement already satisfied: anyio in /opt/miniconda3/lib/python3.12/site-packages (from httpx>=0.27.0->chromadb) (4.4.0)\n",
      "Requirement already satisfied: certifi in /opt/miniconda3/lib/python3.12/site-packages (from httpx>=0.27.0->chromadb) (2024.7.4)\n",
      "Requirement already satisfied: httpcore==1.* in /opt/miniconda3/lib/python3.12/site-packages (from httpx>=0.27.0->chromadb) (1.0.5)\n",
      "Requirement already satisfied: idna in /opt/miniconda3/lib/python3.12/site-packages (from httpx>=0.27.0->chromadb) (3.7)\n",
      "Requirement already satisfied: sniffio in /opt/miniconda3/lib/python3.12/site-packages (from httpx>=0.27.0->chromadb) (1.3.1)\n",
      "Requirement already satisfied: h11<0.15,>=0.13 in /opt/miniconda3/lib/python3.12/site-packages (from httpcore==1.*->httpx>=0.27.0->chromadb) (0.14.0)\n",
      "Requirement already satisfied: six>=1.9.0 in /opt/miniconda3/lib/python3.12/site-packages (from kubernetes>=28.1.0->chromadb) (1.16.0)\n",
      "Requirement already satisfied: google-auth>=1.0.1 in /opt/miniconda3/lib/python3.12/site-packages (from kubernetes>=28.1.0->chromadb) (2.32.0)\n",
      "Requirement already satisfied: websocket-client!=0.40.0,!=0.41.*,!=0.42.*,>=0.32.0 in /opt/miniconda3/lib/python3.12/site-packages (from kubernetes>=28.1.0->chromadb) (1.8.0)\n",
      "Requirement already satisfied: requests-oauthlib in /opt/miniconda3/lib/python3.12/site-packages (from kubernetes>=28.1.0->chromadb) (2.0.0)\n",
      "Requirement already satisfied: oauthlib>=3.2.2 in /opt/miniconda3/lib/python3.12/site-packages (from kubernetes>=28.1.0->chromadb) (3.2.2)\n",
      "Requirement already satisfied: urllib3>=1.24.2 in /opt/miniconda3/lib/python3.12/site-packages (from kubernetes>=28.1.0->chromadb) (2.2.2)\n",
      "Requirement already satisfied: coloredlogs in /opt/miniconda3/lib/python3.12/site-packages (from onnxruntime>=1.14.1->chromadb) (15.0.1)\n",
      "Requirement already satisfied: flatbuffers in /opt/miniconda3/lib/python3.12/site-packages (from onnxruntime>=1.14.1->chromadb) (24.3.25)\n",
      "Requirement already satisfied: protobuf in /opt/miniconda3/lib/python3.12/site-packages (from onnxruntime>=1.14.1->chromadb) (4.25.3)\n",
      "Requirement already satisfied: sympy in /opt/miniconda3/lib/python3.12/site-packages (from onnxruntime>=1.14.1->chromadb) (1.13.0)\n",
      "Requirement already satisfied: deprecated>=1.2.6 in /opt/miniconda3/lib/python3.12/site-packages (from opentelemetry-api>=1.2.0->chromadb) (1.2.14)\n",
      "Requirement already satisfied: importlib-metadata<=7.1,>=6.0 in /opt/miniconda3/lib/python3.12/site-packages (from opentelemetry-api>=1.2.0->chromadb) (7.1.0)\n",
      "Requirement already satisfied: googleapis-common-protos~=1.52 in /opt/miniconda3/lib/python3.12/site-packages (from opentelemetry-exporter-otlp-proto-grpc>=1.2.0->chromadb) (1.63.2)\n",
      "Requirement already satisfied: opentelemetry-exporter-otlp-proto-common==1.25.0 in /opt/miniconda3/lib/python3.12/site-packages (from opentelemetry-exporter-otlp-proto-grpc>=1.2.0->chromadb) (1.25.0)\n",
      "Requirement already satisfied: opentelemetry-proto==1.25.0 in /opt/miniconda3/lib/python3.12/site-packages (from opentelemetry-exporter-otlp-proto-grpc>=1.2.0->chromadb) (1.25.0)\n",
      "Requirement already satisfied: opentelemetry-instrumentation-asgi==0.46b0 in /opt/miniconda3/lib/python3.12/site-packages (from opentelemetry-instrumentation-fastapi>=0.41b0->chromadb) (0.46b0)\n",
      "Requirement already satisfied: opentelemetry-instrumentation==0.46b0 in /opt/miniconda3/lib/python3.12/site-packages (from opentelemetry-instrumentation-fastapi>=0.41b0->chromadb) (0.46b0)\n",
      "Requirement already satisfied: opentelemetry-semantic-conventions==0.46b0 in /opt/miniconda3/lib/python3.12/site-packages (from opentelemetry-instrumentation-fastapi>=0.41b0->chromadb) (0.46b0)\n",
      "Requirement already satisfied: opentelemetry-util-http==0.46b0 in /opt/miniconda3/lib/python3.12/site-packages (from opentelemetry-instrumentation-fastapi>=0.41b0->chromadb) (0.46b0)\n",
      "Requirement already satisfied: setuptools>=16.0 in /opt/miniconda3/lib/python3.12/site-packages (from opentelemetry-instrumentation==0.46b0->opentelemetry-instrumentation-fastapi>=0.41b0->chromadb) (69.5.1)\n",
      "Requirement already satisfied: wrapt<2.0.0,>=1.0.0 in /opt/miniconda3/lib/python3.12/site-packages (from opentelemetry-instrumentation==0.46b0->opentelemetry-instrumentation-fastapi>=0.41b0->chromadb) (1.16.0)\n",
      "Requirement already satisfied: asgiref~=3.0 in /opt/miniconda3/lib/python3.12/site-packages (from opentelemetry-instrumentation-asgi==0.46b0->opentelemetry-instrumentation-fastapi>=0.41b0->chromadb) (3.8.1)\n",
      "Requirement already satisfied: monotonic>=1.5 in /opt/miniconda3/lib/python3.12/site-packages (from posthog>=2.4.0->chromadb) (1.6)\n",
      "Requirement already satisfied: backoff>=1.10.0 in /opt/miniconda3/lib/python3.12/site-packages (from posthog>=2.4.0->chromadb) (2.2.1)\n",
      "Requirement already satisfied: charset-normalizer<4,>=2 in /opt/miniconda3/lib/python3.12/site-packages (from requests>=2.26.0->tiktoken) (3.3.2)\n",
      "Requirement already satisfied: huggingface-hub<1.0,>=0.16.4 in /opt/miniconda3/lib/python3.12/site-packages (from tokenizers>=0.13.2->chromadb) (0.23.5)\n",
      "Requirement already satisfied: click>=8.0.0 in /opt/miniconda3/lib/python3.12/site-packages (from typer>=0.9.0->chromadb) (8.1.7)\n",
      "Requirement already satisfied: shellingham>=1.3.0 in /opt/miniconda3/lib/python3.12/site-packages (from typer>=0.9.0->chromadb) (1.5.4)\n",
      "Requirement already satisfied: rich>=10.11.0 in /opt/miniconda3/lib/python3.12/site-packages (from typer>=0.9.0->chromadb) (13.7.1)\n",
      "Requirement already satisfied: httptools>=0.5.0 in /opt/miniconda3/lib/python3.12/site-packages (from uvicorn[standard]>=0.18.3->chromadb) (0.6.1)\n",
      "Requirement already satisfied: python-dotenv>=0.13 in /opt/miniconda3/lib/python3.12/site-packages (from uvicorn[standard]>=0.18.3->chromadb) (1.0.1)\n",
      "Requirement already satisfied: uvloop!=0.15.0,!=0.15.1,>=0.14.0 in /opt/miniconda3/lib/python3.12/site-packages (from uvicorn[standard]>=0.18.3->chromadb) (0.19.0)\n",
      "Requirement already satisfied: watchfiles>=0.13 in /opt/miniconda3/lib/python3.12/site-packages (from uvicorn[standard]>=0.18.3->chromadb) (0.22.0)\n",
      "Requirement already satisfied: websockets>=10.4 in /opt/miniconda3/lib/python3.12/site-packages (from uvicorn[standard]>=0.18.3->chromadb) (12.0)\n",
      "Requirement already satisfied: dnspython>=2.0.0 in /opt/miniconda3/lib/python3.12/site-packages (from email_validator>=2.0.0->fastapi>=0.95.2->chromadb) (2.6.1)\n",
      "Requirement already satisfied: cachetools<6.0,>=2.0.0 in /opt/miniconda3/lib/python3.12/site-packages (from google-auth>=1.0.1->kubernetes>=28.1.0->chromadb) (5.4.0)\n",
      "Requirement already satisfied: pyasn1-modules>=0.2.1 in /opt/miniconda3/lib/python3.12/site-packages (from google-auth>=1.0.1->kubernetes>=28.1.0->chromadb) (0.4.0)\n",
      "Requirement already satisfied: rsa<5,>=3.1.4 in /opt/miniconda3/lib/python3.12/site-packages (from google-auth>=1.0.1->kubernetes>=28.1.0->chromadb) (4.9)\n",
      "Requirement already satisfied: filelock in /opt/miniconda3/lib/python3.12/site-packages (from huggingface-hub<1.0,>=0.16.4->tokenizers>=0.13.2->chromadb) (3.15.4)\n",
      "Requirement already satisfied: fsspec>=2023.5.0 in /opt/miniconda3/lib/python3.12/site-packages (from huggingface-hub<1.0,>=0.16.4->tokenizers>=0.13.2->chromadb) (2024.6.1)\n",
      "Requirement already satisfied: zipp>=0.5 in /opt/miniconda3/lib/python3.12/site-packages (from importlib-metadata<=7.1,>=6.0->opentelemetry-api>=1.2.0->chromadb) (3.19.2)\n",
      "Requirement already satisfied: MarkupSafe>=2.0 in /opt/miniconda3/lib/python3.12/site-packages (from jinja2>=2.11.2->fastapi>=0.95.2->chromadb) (2.1.5)\n",
      "Requirement already satisfied: markdown-it-py>=2.2.0 in /opt/miniconda3/lib/python3.12/site-packages (from rich>=10.11.0->typer>=0.9.0->chromadb) (3.0.0)\n",
      "Requirement already satisfied: pygments<3.0.0,>=2.13.0 in /opt/miniconda3/lib/python3.12/site-packages (from rich>=10.11.0->typer>=0.9.0->chromadb) (2.18.0)\n",
      "Requirement already satisfied: humanfriendly>=9.1 in /opt/miniconda3/lib/python3.12/site-packages (from coloredlogs->onnxruntime>=1.14.1->chromadb) (10.0)\n",
      "Requirement already satisfied: mpmath<1.4,>=1.1.0 in /opt/miniconda3/lib/python3.12/site-packages (from sympy->onnxruntime>=1.14.1->chromadb) (1.3.0)\n",
      "Requirement already satisfied: mdurl~=0.1 in /opt/miniconda3/lib/python3.12/site-packages (from markdown-it-py>=2.2.0->rich>=10.11.0->typer>=0.9.0->chromadb) (0.1.2)\n",
      "Requirement already satisfied: pyasn1<0.7.0,>=0.4.6 in /opt/miniconda3/lib/python3.12/site-packages (from pyasn1-modules>=0.2.1->google-auth>=1.0.1->kubernetes>=28.1.0->chromadb) (0.6.0)\n"
     ]
    }
   ],
   "source": [
    "! pip install pillow pydantic lxml pillow matplotlib chromadb tiktoken"
   ]
  },
  {
   "cell_type": "code",
   "execution_count": null,
   "metadata": {},
   "outputs": [],
   "source": [
    "path = \"/Users/ananyasai/Downloads/Clustering_InClass\""
   ]
  },
  {
   "cell_type": "code",
   "execution_count": null,
   "metadata": {},
   "outputs": [
    {
     "name": "stderr",
     "output_type": "stream",
     "text": [
      "/opt/miniconda3/lib/python3.12/site-packages/tqdm/auto.py:21: TqdmWarning: IProgress not found. Please update jupyter and ipywidgets. See https://ipywidgets.readthedocs.io/en/stable/user_install.html\n",
      "  from .autonotebook import tqdm as notebook_tqdm\n"
     ]
    }
   ],
   "source": [
    "from typing import Any\n",
    "\n",
    "from pydantic import BaseModel\n",
    "from unstructured.partition.pdf import partition_pdf"
   ]
  },
  {
   "cell_type": "code",
   "execution_count": null,
   "metadata": {},
   "outputs": [],
   "source": [
    "##did brew install poppler to have the package to be able to process the pdf to access word count\n",
    "## and brew install tesseract for unstructured\n",
    "\n",
    "def extract_pdf_elements(path):\n",
    "    \"\"\"\n",
    "    Extract images, tables, and chunk text from a PDF file.\n",
    "    path: File path, which is used to dump images (.jpg)\n",
    "    fname: File name\n",
    "    \"\"\"\n",
    "    return partition_pdf(\n",
    "    filename=path +\".pdf\",\n",
    "    extract_images_in_pdf=True,  # Using pdf format to find embedded image blocks\n",
    "    # Use layout model (YOLOX) to get bounding boxes (for tables) and find titles\n",
    "    # Titles are any sub-section of the document\n",
    "    infer_table_structure=True,\n",
    "    # Post processing to aggregate text once we have the title\n",
    "    chunking_strategy=\"by_title\",\n",
    "    # Chunking params to aggregate text blocks\n",
    "    # Attempt to create a new chunk 3800 chars\n",
    "    # Attempt to keep chunks > 2000 chars\n",
    "    # Hard max on chunks\n",
    "    max_characters=4000,\n",
    "    new_after_n_chars=3800,\n",
    "    combine_text_under_n_chars=2000,\n",
    "    image_output_dir_path=path,\n",
    ")"
   ]
  },
  {
   "cell_type": "code",
   "execution_count": null,
   "metadata": {},
   "outputs": [],
   "source": [
    "# Categorize elements by type\n",
    "def categorize_elements(raw_pdf_elements):\n",
    "    \"\"\"\n",
    "    Categorize extracted elements from a PDF into tables and texts.\n",
    "    raw_pdf_elements: List of unstructured.documents.elements\n",
    "    \"\"\"\n",
    "    tables = []\n",
    "    texts = []\n",
    "    for element in raw_pdf_elements:\n",
    "        if \"unstructured.documents.elements.Table\" in str(type(element)):\n",
    "            tables.append(str(element))\n",
    "        elif \"unstructured.documents.elements.CompositeElement\" in str(type(element)):\n",
    "            texts.append(str(element))\n",
    "    return texts, tables\n"
   ]
  },
  {
   "cell_type": "code",
   "execution_count": null,
   "metadata": {},
   "outputs": [
    {
     "name": "stderr",
     "output_type": "stream",
     "text": [
      "Some weights of the model checkpoint at microsoft/table-transformer-structure-recognition were not used when initializing TableTransformerForObjectDetection: ['model.backbone.conv_encoder.model.layer2.0.downsample.1.num_batches_tracked', 'model.backbone.conv_encoder.model.layer3.0.downsample.1.num_batches_tracked', 'model.backbone.conv_encoder.model.layer4.0.downsample.1.num_batches_tracked']\n",
      "- This IS expected if you are initializing TableTransformerForObjectDetection from the checkpoint of a model trained on another task or with another architecture (e.g. initializing a BertForSequenceClassification model from a BertForPreTraining model).\n",
      "- This IS NOT expected if you are initializing TableTransformerForObjectDetection from the checkpoint of a model that you expect to be exactly identical (initializing a BertForSequenceClassification model from a BertForSequenceClassification model).\n"
     ]
    }
   ],
   "source": [
    "# Get elements\n",
    "raw_pdf_elements = extract_pdf_elements(path)\n"
   ]
  },
  {
   "cell_type": "code",
   "execution_count": null,
   "metadata": {},
   "outputs": [],
   "source": [
    "# Get text, tables\n",
    "texts, tables = categorize_elements(raw_pdf_elements)"
   ]
  },
  {
   "cell_type": "code",
   "execution_count": null,
   "metadata": {},
   "outputs": [
    {
     "data": {
      "text/plain": [
       "['Machine Learning Overview, EDA and Clustering\\n\\nMachine Learning Overview, EDA and Clustering Brian Wright brianwright@virginia.edu\\n\\nBrian Wright\\n\\nbrianwright@virginia.edu\\n\\nReeveuvasn 3 PRACTICE OF DATA SCIENCE\\n\\nCLASSICAL MACHINE LEARNING Data is on eal or numerical SUPERVISED Predict 5 Predict t al: a number SSIFICATION the socks by color» 2 ‘eB / REGRESSION «Divide the ties by Length» UNSUPERVISED Identify Sequences Divide by similarity Find hidden dependencies CLUSTERING «Split up similar clothing into Stacks” ci ASSOCIATION _—_ «Find what clothes | often = (: ; Wear togethern + = 2 °.m= DIMENSION REDUCTION (generalization) «Make the best outfits from the given clothes»\\n\\n2\\n\\nExample of K-Means\\n\\nGiven D :{2,4,10,12,3,11,20,25,30}, and k=2 clusters Randomly assign the means: m1=3, m2=4 K1={2,3}, K2={4,10,12,11,20,25,30}, m1=2.5, m2=16 K1={2,3,4}, K2={10,12,11,20,25,30}, m1=3, m2=18 K1={2,3,4,10}, K2={12,11,20,25,30}, m1=4.75, m2=19.6 K1={2,3,4,10,11,12}, K2={20,25,30}, m1=7, m2=25 K1={2,3,4,10,11,12}, K2={20,25,30}, m1=7, m2=25 Stop, since the clusters and the means found in all subsequent iterations will be the same.\\n\\n3\\n\\nOutline: Intro to Unsupervised ML\\n\\n1. What is Machine Learning? 2. What is exploratory data analysis? 3. k-means clustering\\n\\n– Does Congress vote in patterns?\\n\\n4. Multi-dimensional k-means clustering\\n\\n– Are NBA players compensated according to performance?\\n\\n4\\n\\nWhat is exploratory data analysis?\\n\\n• Exploratory data analysis or “EDA” is an approach where the intent is to see\\n\\nwhat the data can tell us beyond modeling or hypothesis testing – Data visualization is one of the most common forms of EDA\\n\\n5\\n\\nTypes of exploratory data analysis\\n\\nWhen data is too big or complex to be analyzed just by visualizing it, these types of analysis can help:\\n\\n1. Clustering: compare pieces of data by measuring similarity among them\\n\\n2. Network analysis: analyze how people, places and entities are connected to evaluate the properties and structure of a network\\n\\n3. Text mining: analyze what large bodies of unstructured or structured text say\\n\\niteration ise Giakeneth . Journalists: “BBC digital =.\\n\\n6',\n",
       " 'Unsupervised machine learning\\n\\nThe data inputs have (x) no target outputs (y)\\n\\nInput x: Voter\\n\\n?\\n\\nOutput y: Not given (To be discovered)\\n\\nWe want to impose structure on the inputs (x)to say something meaningful about the data\\n\\n7\\n\\nWhat is clustering?\\n\\n1. Technique for finding similarity between groups\\n\\n2. Type of unsupervised machine learning\\n\\n• Not the only class of unsupervised learning algorithms\\n\\n3. Similarity needs to be defined\\n\\nWill depend on attributes of data • Usually a distance metric\\n\\nKey assumption: data points that are “closer” together are related or similar\\n\\n8\\n\\nC\\n\\nGE Capital case study: grouping clients\\n\\nHaimowitz and Schwarz 1997 paper on clustering for credit line optimization – http://www.aaai.org/Papers/Workshops/1997/\\n\\nWS-97-07/WS97-07-006.pdf\\n\\n• Cluster existing GE Capital customers based on similarity in use of their credit cards to pay bills and customers’ profitability to GE Capital\\n\\n• Resulted in five clusters of consumer credit behavior\\n\\n* New credit applicant, with culprit bates date ® P, C, SSE. Px ee Delinquency ee Spending Revolving Figure 1: Clustering-based framework for optimizing a credit policy.\\n\\n• Created classification model to predict customer type and offer tailored products\\n\\n9\\n\\nConcept summary',\n",
       " '12\\n\\nPolitical clustering\\n\\nGoal: to understand how polarized the US Congress is\\n\\n1. Data set consists of 427 members (observations)\\n\\n2. Members served a full year in 2013 3. Three vote types:\\n\\n“Aye” • “Nay” • “Other”\\n\\nThe joint session of Congress on Capitol Hill in Washington\\n\\n13\\n\\nFinding voting patterns\\n\\nEach data point represents a member of Congress\\n\\n• How do we identify\\n\\nswing votes? – Lobbying – Bridging party lines\\n\\n• Assumption:\\n\\n– Democrats and Republicans vote among partisan lines, which generates clusters\\n\\nAye vs. Nay votes in House of Representatives . e A be ow oe gt ° ee e e 300 ° °° fon fe, © ve ° Py . “% “ee o . 763800 ard . Lg ° * PAE e il e eed. oh . 5S owt Bee 08 . < . Pi hel en oe ° * s ° . e . e yy . 3 — . . . ?¢ ~~” 1S thee . ® ee see a ° S% 0 gtr ee, & € . ‘od eo, ew 8 5 ME Se nod ye? SS) Zz ° 8 oe e ° “ee ee? “see : of ‘e % 200 . aN e° . . dee . *. . . . . 100 150 200 Number of Aye Votes\\n\\n14\\n\\nIntra vs. inter-cluster distance\\n\\nInter-Cluster  Distance  Intra-Cluster  Distance \\n\\nObjective: minimize intra-cluster distance, maximize inter-cluster distance\\n\\n15\\n\\nk-means clustering is based on centroids\\n\\n• The centroid is the average location of all points in the cluster\\n\\n• Another definition: the centroid minimizes the distance between a central location and all the data points in the cluster\\n\\nNote: Centroids are generally not existing data points, rather locations in space\\n\\nAye vs. Nay votes in House of Repr oe ° ws * . wee eee ree . oe % get te ° oe Oo “i.e Or ge oe . oar Cae a “2 oan 2 3 Ss Number of Nay Votes fe g ty 8 8 100 ‘a0 200 Number of Ave Votes\\n\\n16\\n\\nk-means in 4 steps\\n\\nAye vs. Nay votes in House of Representatives . . oe . ot ” %* « . . we, eee ° + o of Tower, ° oe oe cv * te ye . . 3 Woe os . * Je oF BS oo Mes . 3s . ° oes o fe, = 1 0% *e, oe e = . oe * S2 ° . o %e o . ¢ . An Lane a 3 ° . oe ¢ Bees ° i= oe SNe to, Be Fd . o thee pan st ee Eh . 7° 7° yes ° we oF teeter e o * at, ¢ oreo 20 ores . i . ° eo 2% . . bd ° 100 150 200 250 Number of Aye Votes\\n\\n1. Randomly choose k data points to be centroids\\n\\n17',\n",
       " 'k-means in 4 steps\\n\\n1. Randomly choose k data points to be centroids\\n\\n2. Assign each point to closest centroid\\n\\nAye vs. Nay votes in House of Representatives 300 8 \\' Cluster g 1 Cluster 1 e 2 |cluster 2 = 250 - 2 Party 3 © Democratic 5 @ Repubiican\\n\\n18\\n\\nk-means in 4 steps\\n\\n1. Randomly choose k data points to be centroids\\n\\n2. Assign each point to closest centroid\\n\\n3. Recalculate centroids based on current cluster membership\\n\\n=e Number of Nay Votes ; Aye vs. Nay votes in House of Representatives 50 200 Number of Aye Votes Cluster 4 Cluster 1 2 Cluster 2 Party @ | Democratic @ Republican\\n\\n19\\n\\nk-means in 4 steps\\n\\n1. Randomly choose k data points to be centroids\\n\\n2. Assign each point to closest centroid\\n\\n3. Recalculate centroids based on current cluster membership\\n\\nAye vs. Nay votes in House of Representatives 14, 1. A ft! 4 4 Wy , 1 1 id q 4 8 1114 S , ty ety a = 250 1 . 7? ala +—sy2 E 5 1 # F 4 200 a 100 150 200 Number of Aye Votes Cluster 14 |ctuster 1 | 2 Cluster 2 Party e Democratic |@ Republican\\n\\n4. Repeat steps 2-3 with the new centroids until the centroids don’t change anymore\\n\\n20\\n\\nStep 1: load packages and data\\n\\n# Install packages install.packages(\"e1071\")  install.packages(\"ggplot2\")  # Load libraries library(e1071) library(ggplot2)  library(help = e1071)  Learn about all the functionality of the package, be  well informed about what you\\'re doing! \\n\\n®@)Clustering&DM.R* —_) Documentation for package ‘e1071’ = J] Index: allShortestPaths Find Shortest Paths Between All Nodes in a Directed Graph belust Bagged Clustering bincombinations Binary Combinations bootstrap.lca Bootstrap Samples of LCA Results boxplot.bclust Boxplot of Cluster Profiles\\n\\n‘ Wi San TIT\\n\\n21\\n\\nStep 1: load packages and data\\n\\n# Loading house data\\n\\n# Loading house data\\n\\nhouse votes Dem = read _csv(\"house votes Dem.csv\")\\n\\nhouse_votes_Dem = read_csv(\"house_votes_Dem.csv\")\\n\\n# What does the data look like? View(house_votes_Dem)\\n\\n@) Clustering & DMR x uk wn fl y Filter LastName Courtney Lewis Bera McCollum Olson party.labels yea Democrat Democrat Democrat Democrat Republican 66 59 84 74 127 nay 163 145 141 154 103 other 91 116 95 92 90 =0\\n\\nScript ',\n",
       " 'Script\\n\\n22\\n\\nStep 2: run k-means\\n\\n# Define the columns to be clustered by subsetting the data clust_data_Dem = house_votes_Dem[, c(\"aye\", \"nay\", \"other\")]\\n\\n2\\n\\n# Run an algorithm with 2 centers set.seed(1)\\n\\nQs\\n\\nkmeans_obj_Dem = kmeans(clust_data_Dem, centers = 2,\\n\\nalgorithm = \"Lloyd\")\\n\\nL~\\n\\n# What does the new variable kmeans_obj contain? kmeans_obj_Dem\\n\\n# View the results of each output of the kmeans # function head(kmeans_obj_Dem)\\n\\n“Tuma, ‘\\n\\nScript\\n\\n1. By placing the set of data we want after the comma, we tell R we’re looking for columns\\n\\n2. kmeans uses a different starting data point each time it runs. To make the results reproducible make R start from the same point every time with set.seed() 3. We’re not specifying the number of iterations so R defaults to 10 4. We’ll see that kmeans produces a\\n\\nlist of vectors of different lengths. As a result, we cannot use the View() function\\n\\n23\\n\\nStep 2: run k-means\\n\\n1. Number of points each cluster contains  2. The “location” of each cluster center is specified by 3  coordinates, one for each column we’re clustering  3. The list assigning either cluster 1 or 2 to each data point  1. 79.5% of the variance between the data points is explained   by our clustering, we will discuss this in detail later  2. List of other types of data included in kmeans_obj \\n\\n1. Number of points each cluster contains\\n\\n2. List of other types of data included in kmeans_obj\\n\\ntT) TU\\n\\n24\\n\\nkmeans outputs\\n\\n• cluster: a vector indicating the cluster to which each point is allocated\\n\\n• centers: a matrix of cluster centers\\n\\n• totss: the total sum of squares (sum of distances between all points)\\n\\n• withinss: vector of within-cluster sum of distances, one number per cluster\\n\\n• tot.withinss: total within-cluster sum of distances, i.e. sum of withinss\\n\\n• betweenss: the between-cluster sum of squares, i.e. totss - tot.withinss\\n\\n• size: the number of points in each cluster\\n\\nTo learn more about the kmeans function run ?kmeans\\n\\n26\\n\\nIntra vs. inter-cluster distance\\n\\nwithinss',\n",
       " 'totss = withinss + betweenss\\n\\nInter-Cluster  Distance  Intra-Cluster  Distance  betweenss  withinss \\n\\n27\\n\\nStep 3: visualize plot\\n\\n#\\n\\n# Tell R to read the cluster labels as factors so that ggplot2 (the # graphing package) can read them as category labels instead of # continuous variables (numeric variables). party_clusters_Dem = as.factor(kmeans_obj_Dem$cluster)\\n\\n# What does party_clusters look like? View(party_clusters_Dem) View(as.data.frame(party_clusters_Dem))\\n\\n#\\n\\n# Set up labels for our data so that we can compare Democrats and # Republicans. party_labels_Dem = house_votes_Dem$party\\n\\nScript\\n\\n“\\n\\n= ain ~\\n\\n28\\n\\nStep 3: visualize plot\\n\\nScript ggplot(house_votes_Dem, aes(x = aye, y = nay, shape = party_clusters_Dem)) + geom_point(size = 6) + ggtitle(\"Aye vs. Nay votes for Democrat-introduced bills\") + xlab(\"Number of Aye Votes\") + ylab(\"Number of Nay Votes\") + scale_shape_manual(name = \"Cluster\", labels = c(\"Cluster 1\", \"Cluster 2\"), values = c(\"1\", \"2\")) +\\n\\nScript\\n\\ntheme light ()\\n\\ntheme_light()\\n\\nBase layer\\n\\nGeom Layer\\n\\nTitles and axis\\n\\nShape\\n\\nTheme\\n\\nC o s m e t i c s l a y e r\\n\\n29\\n\\nStep 3: visualize plot\\n\\nAye vs. Nay votes for Democrat-introduced bills | op 100 2 $ ze 140 7 Cluster < 2 ; 1 Cluster 1 5 2 Cluster2 a 5 > 100 a 60 a0) 100 120 Number of Aye Votes\\n\\n|\\n\\n30\\n\\nStep 4: analyze results\\n\\nWhat can we infer about the different clusters?\\n\\nTwo groups exist\\n\\n• Algorithm identifies voting patterns\\n\\nAye vs. Nay votes for Democrat-introduced bills » 100 2 S > 140 Cluster ¢ 4 Cluster 1 5, 120 2 Cluster 2 2 £ F 100 ~ 60 80 100 120 Number of Aye Votes\\n\\n31\\n\\nStep 5: validate results\\n\\nScript ggplot(house_votes_Dem, aes(x = yea, y = nay, color = party_labels_Dem, shape = party_clusters_Dem)) + geom_point(size = 6) + ggtitle(\"Aye vs. Nay votes for Democrat-introduced bills\") + xlab(\"Number of Aye Votes\") + ylab(\"Number of Nay Votes\") + scale_shape_manual(name = \"Cluster\", labels = c(\"Cluster 1\", \"Cluster 2\"), values = c(\"1\", \"2\")) + scale_color_manual(name = \"Party\", labels = c(\"Democratic\", \"Republican\"), values = c(\"blue\", \"red\")) + Base layer Geom Layer Titles and axis Color and shape\\n\\ntheme light ()',\n",
       " 'theme_light()\\n\\nTheme\\n\\nC o s m e t i c s l a y e r\\n\\n32\\n\\nStep 5: validate results\\n\\nNumber of Nay Votes Aye vs. Nay votes for Democrat-introduced bills 160 Cluster 1 Cluster 1 140 2 Cluster 2 @ Republican 100 S Democratic 60 80 100 120 Number of Aye Votes\\n\\n33\\n\\nStep 6: interpret results\\n\\n• Diffuse among Democrats\\n\\nAye vs. Nay votes for Democrat-introduced bills ® ° | Cluster 1 a rs - 2 Cluster 2 Z ‘6 12042 ® Party E Oo Republican 7 100 Oo Democratic\\n\\n• Republicans more dense\\n\\n• Can gauge “outliers”  • Can see the polarization   between the two political parties  \\n\\n34\\n\\nClustering vs. visualizing\\n\\n• Clustering is more powerful than the human eye in 3D\\n\\n• Clustering mathematically defines which cluster the peripheral points should be in when it’s not obvious to the human eye\\n\\n• Clustering is helpful when many\\n\\ndimensions / variables exist that you can’t visualize at once – Whiskey similarity example from\\n\\nclassification lecture\\n\\nAye, Nay and Other Votes in House of Representatives\\n\\nin House of Representatives other 312.p0\\n\\n35\\n\\nHow good is the clustering?\\n\\n• Goals of clustering:\\n\\n– Maximize the separation between clusters   • i.e. Maximize inter-cluster distance   – Keep similar points in a  cluster close together  • i.e. Minimize intra-cluster distance \\n\\nDistance pee, ae oy te : af 10 Le PG ot 4 ar re Me Ld . e <* Oo NN ss. ° Cc ° ‘ \\\\ ee “° wet ee} . Inber-Clustep tt ttresseseecen2277 L) . Intra-Cluster Distance\\n\\n36\\n\\nHow good is the clustering?\\n\\nAssessing how well an algorithm performs\\n\\n• Look at the variance explained by\\n\\nclusters – In particular, the ratio of inter-cluster\\n\\nvariance to total variance\\n\\nVariation explained by clusters = inter-cluster variance / total variance\\n\\n• How much of the total variance is explained by the clustering?\\n\\no woe te ty ‘ 1 SS ° 4 tea de\\'S. 3 *. * Pe er ch . Lee eae °\" Intra-Cluster Distance ae eee ee betweenss Distance----\"7 = aa ° : Pod 2° 10 “a ry 20” see. ° Fa we ° ee Se withinss _---\" eee 0 10\\n\\n37\\n\\nkmeans outputs\\n\\n• cluster: a vector indicating the cluster to which each point is allocated\\n\\n• centers: a matrix of cluster centers\\n\\n• totss: the total sum of squares (sum of distances between all points)\\n\\n• withinss: vector of within-cluster sum of distances, one number per cluster\\n\\n• tot.withinss: total within-cluster sum of distances, i.e. sum of withinss\\n\\n• betweenss: the between-cluster sum of squares, i.e. totss - tot.withinss\\n\\n• size: the number of points in each cluster\\n\\nTo learn more about the kmeans function run ?kmeans\\n\\n38',\n",
       " 'Intra vs. inter-cluster distance\\n\\nwithinss\\n\\ntotss = withinss + betweenss\\n\\nInter-Cluster  Distance  Intra-Cluster  Distance  betweenss  withinss \\n\\n39\\n\\nHow good is the clustering?\\n\\nInter-cluster variance,\\n\\n# Inter-cluster variance, # \"betweenss\" is the sum of the # distances between points from # different clusters num_Dem = kmeans_obj_Dem$betweenss\\n\\nTotal variance\\n\\n# Total variance # \"totss\" is the sum of the distances # between all the points in # the data set denom_Dem = kmeans_obj_Dem$totss\\n\\n. Variance accounted for by\\n\\n# Variance accounted for by # clusters var_exp_Dem = num_Dem / denom_Dem var_exp_Dem [1] 0.7193405\\n\\nScript\\n\\nw 160 Cluster 2 S 1 Custer 1 dae 2 Cluster 2 ~ 2 °o 37 Party E ; F 100 o ee oO Democratic 60 80 100 120 Number of Aye Votes\\n\\n40\\n\\nHow good is the clustering?\\n\\nHow do we choose the number of clusters (i.e. k)?\\n\\n• It’s easier when the number of clusters is known ahead of time, but what if we don\\'t know how many clusters we should have?\\n\\n• Since different starting points may generate different clusters, we need a way to assess cluster quality as well.\\n\\n41\\n\\nHow to select k: two methods\\n\\n1. Elbow method\\n\\n– Computes the percentage of variance explained by clusters for a range of cluster numbers\\n\\n– Plots a graph so results are easier to see – Not guaranteed to work! It depends on the data in question\\n\\n2. NbClust\\n\\n– Runs 30 different tests and provides “majority vote” for the best number of clusters (k’s) to use\\n\\n42 \\n\\n42\\n\\nElbow method: measure variance\\n\\n#\\n\\nwith\\n\\n3\\n\\n# Run algorithm with 3 centers set.seed(1) kmeans_obj_Dem = kmeans(clust_data_Dem,\\n\\nScript\\n\\nkmeans_ obj Dem = kmeans(clust_data_Dem, centers = 3,\\n\\ncenters = 3, algorithm = \"Lloyd\")\\n\\n# Inter-cluster variance\\n\\n# Inter-cluster variance\\n\\nnum Dem = kmeans obj DemSbetweenss ~ ~\\n\\nnum_Dem = kmeans_obj_Dem$betweenss\\n\\n# Total variance\\n\\n# Total variance\\n\\ndenom_ Dem = kmeans_obj_ DemStotss\\n\\ndenom_Dem = kmeans_obj_Dem$totss\\n\\n# Variance accounted for by clusters\\n\\n# Variance accounted for by clusters\\n\\nvar_exp_Dem = num_Dem / denom_Dem var_exp_Dem [1] 0.7949741\\n\\nt Wi TT =\\n\\nAye vs. Nay votes for Democrat-introduced bills Cluster Cluster 1 Cluster 2 Cluster 3 ie a Democratic Number of Nay Votes Republican S S 3 75 oa» Number of Aye Votes\\n\\n43',\n",
       " 'Automating a step we want to repeat\\n\\n• We want to repeat the variance calculation from the previous slide for several numbers of clusters automatically\\n\\n• We can create a function that contains all the steps we want to automate\\n\\nfunction(data, item to iterate through)\\n\\nfunction(data, item to iterate through)\\n\\n44\\n\\n”\\n\\nAutomating a step we want to repeat\\n\\nScript\\n\\n# The function explained_variance wraps our code from previous slides.\\n\\nfunction\\n\\nexplained_variance = function(data_in, k){\\n\\n# Running k-means algorithm\\n\\n# Running k-means algorithm\\n\\n7)\\n\\n1. A new variable is created and set equal\\n\\nto our function()\\n\\nset.seed(1) kmeans_obj = kmeans(data_in, centers = k,\\n\\n2. The commands inside the function are wrapped in curly braces {}\\n\\nalgorithm = \"Lloyd\")\\n\\n# Variance accounted for by clusters\\n\\n# Variance accounted for by clusters\\n\\nvar_exp = kmeans_obj$betweenss /\\n\\nkmeans_obj$totss\\n\\n3. Inside the parentheses, we specify the variables that the user will input and that will then be used inside the function where they appear\\n\\nvar_exp\\n\\n}\\n\\nt ~\\n\\n45\\n\\n~\\n\\nAutomating a step we want to repeat\\n\\n# Recall the variable we are using for the\\n\\n# Recall the variable we are using for the # data that we\\'re clustering.\\n\\nma, 1AONOH ELH\\n\\nScript \\n\\n=\\n\\nclust_data_Dem = house_votes_Dem[, c(\"aye\", \"nay\", \"other\")] View(clust_data_Dem)\\n\\n# The sapply() function plugs several values # into explained_variance. Function we created explained_var_Dem = sapply(1:10, explained_variance, data_in = clust_data_Dem) View(explained_var_Dem) # Data for ggplot2 elbow_data_Dem = data.frame(k = 1:10, explained_var_Dem)\\n\\nView(elbow_data_Dem)\\n\\n1. sapply() applies a function to a vector\\n\\n2. We have to tell sapply() that\\n\\nthe we want the explained_variance function to use the clust_data data 3. Next, we create a data frame that contains both the new variance variable (explained_var_Dem) and the different numbers of k that we used in the previous function (1 through 10)\\n\\n46\\n\\n~\\n\\nElbow method:\\n\\nElbow method: plotting the graph\\n\\nScript\\n\\n# Plotting data',\n",
       " '# Plotting data\\n\\nggplot(elbow_data_Dem, aes(x = k, y = explained_var_Dem)) + geom_point(size = 4) + geom_line(size = 1) + xlab(\"k\") + ylab(\"Intercluster Variance/Total Variance\") + theme_light()\\n\\n1. geom_point() sets the size of the data points 2. geom_line() sets the thickness of the line\\n\\n- 7 “Tima\\n\\n47\\n\\nElbow method: measure variance\\n\\nLooking for the kink in graph of inter-cluster variance / total variance\\n\\nAye vs. Nay votes for Democrat-introduced bills : Cluster 1 Cluster 1 2 Cluster2 = aD ao = > So Party @ Repuntican @ Democratic Number of Nay Votes 60 80 100 120 Number of Aye Votes\\n\\nk = 2 \\n\\nOriginal data\\n\\nElbow method\\n\\n48\\n\\nNbClust: k by majority vote\\n\\nNbClust: k by majority vote\\n\\nThere are a number of ways to choose the right k. NbClust runs 30 tests and selects k based on majority vote\\n\\n• Library: \"NbClust\"\\n\\nFunctions: \"NbClust\"\\n\\nNbClust (data, max.nc, method = \"kmeans\")\\n\\nNbClust(data, max.nc, method = \"kmeans\")\\n\\nInputs: • data – data array or data frame • min.nc / max.nc – minimum/maximum number of clusters • method – \"kmeans\" • There are other, more advanced arguments that can be customized but are outside of\\n\\ne There are other, more advanced arguments that can be customized but are outside the scope of this course and are note necessary to for NoClust to work\\n\\nthe scope of this course and are note necessary to for NbClust to work\\n\\n49\\n\\nNbClust: k by majority vote\\n\\nNbClust: k by majority vote\\n\\n# Install the package. install.packages(\"NbClust\") library(NbClust) # Run NbClust. nbclust_obj_Dem = NbClust(data = clust_data_Dem, method = \"kmeans\") # View the output of NbClust. nbclust_obj_Dem Script\\n\\n# View the output that shows the number of clusters each # method recommends. View(nbclust_obj_Dem$Best.nc)\\n\\nITU\\n\\n50\\n\\nNbClust: k by majority vote\\n\\nNbClust: k by majority vote\\n\\nConsole\\n\\n=\\n\\n> nbclust_obj_Dem = NbClust(data = clust_data_Dem, method = \"kmeans\") ...\\n\\nKKKKKKKKKKKKKKKKKKKKKKKK KK KK KKK KK KKK KK KKK KKKKKKKKKKKKKKKKKKKKKKKKKK\\n\\n******************************************************************* * Among all indices: * 14 proposed 2 as the best number of clusters * 3 proposed 3 as the best number of clusters * 1 proposed 4 as the best number of clusters * 3 proposed 6 as the best number of clusters * 1 proposed 9 as the best number of clusters * 1 proposed 10 as the best number of clusters * 1 proposed 15 as the best number of clusters\\n\\n***** Conclusion *****',\n",
       " '***** Conclusion *****\\n\\n* According to the majority rule, the best number of clusters is\\n\\nAccording to the majority rule, the best number of clusters is 2\\n\\n©\\n\\nNote: additional information appears; the above information is most relevant to us for now\\n\\na INONOHTUUT\\n\\n51\\n\\nNbClust: k by majority vote\\n\\nNbClust: k by majority vote\\n\\nnbclust_obj_Dem shows the outputs of NbClust\\n\\n– One of the outputs is Best.nc, which shows the number of clusters recommended by each test\\n\\n> nbclust_obj Dem\\n\\n> nbclust_obj_Dem\\n\\nConsole ~/Desktop/ af KL CH Hartigan ccc Scott Marriot TrCovW = TraceW Rubin Ci ndex Number_clusters 2.0000 2.00@ 15.000 2.000 15.0000 8.0000 3 3.00 4.00000e+00 13.0000 15. Value_Index 124.7563 1650.897 90.934 76.795 538.9619 276.7943 2049902656 16117.57 3.42403e+16 -85.7654 @. 1306 DB Silhouette Duda PseudoT2 Beale Ratkowsky Ball PtBiserial Frey McClain Dunn Huber t SDindex Number_cLusters 2.0000 2.0000 2.0000 2.0000 2.0000 2.0000 3.00 3.0000 1 2.0000 2.0000 @ 2.0000 Value_Index 0.5038 @.7149 0.6358 115.1243 0.9702 @.5589 30173.51 @.8961 0.2779 0.1005 @ 0.0838\\n\\nt Wi ITU\\n\\nConsole\\n\\n52\\n\\nNbClust: k by majority vote\\n\\nNbClust: k by majority vote\\n\\n®@) Clustering & DM.R __| nbclust_obj_Dem$Best.nc = él) y Filter KL CH Hartigan (eae Scott Marriot TrCovw TraceW Friedman Rubin Cindex Number_clust... 2.0000 2.000 15.000 2.000 15.0000 8.0000 3 3.00 4.00000e+... 13.0000 15.0000 Value_Index 124.75... 1650.8... 90.934 76.7... 538.96... 276.7943 20499026... 16117.57 3.42403e+... -85.76... 0.1306\\n\\n• We want to visualize a histogram to make it obvious how many votes there are for each number of clusters\\n\\n53\\n\\nNbClust: k by majority vote\\n\\nNbClust: k by majority vote\\n\\n#\\n\\n# Subset the 1st row from Best.nc and convert it # to a data frame, so ggplot2 can plot it. freq_k_Dem = nbclust_obj_Dem$Best.nc[1,] freq_k_Dem = data.frame(freq_k_Dem) View(freq_k_Dem) # Check the maximum number of clusters. max(freq_k_Dem) # Plot as a histogram. ggplot(freq_k_Dem, aes(x = freq_k_Dem)) + geom_bar() + scale_x_continuous(breaks = seq(0, 15, by = 1)) + scale_y_continuous(breaks = seq(0, 12, by = 1)) + labs(x = \"Number of Clusters\",',\n",
       " 'y = \"Number of Votes\", title = \"Cluster Analysis\")\\n\\nit\\n\\nScript\\n\\nScript\\n\\n2 clusters is the  winner with 12 votes \\n\\n54\\n\\nApplication of results\\n\\n• If you’re a lobbyist, which congressperson can you influence for swing votes?\\n\\n• If you’re managing a campaign and your competitor is always voting along party lines, how can you use that information?\\n\\n• If your congressperson is not an active voter, is she representing your interests?\\n\\n• What do the voting patterns look like for Republican-introduced bills?\\n\\n55\\n\\nImplications of results\\n\\n• Could see differences between the patterns of Reb lead bills and Democrat lead bills\\n\\n• Could provide information on congressmen that might be see has swing votes.\\n\\nDURLINGTON WAS AN EXPERT IN HIS FIELD. UNFORTUNATELY, HIS FIELD WAS A TEN FOOT SQUARE PLOT OF PASTURE IN IOWA.\\n\\n56\\n\\nLimitations of results\\n\\n• We are assuming that the patterns correspond with the same bills being voted on – perhaps some Congressmen have the same number of \\'aye\\' and \\'nay\\' votes, but voted on different bills\\n\\n• Network analysis can help determine additional connections between Congressmen\\n\\n• We haven\\'t taken extenuating factors into account – political initiatives, current events, etc.\\n\\nThis is a preliminary analysis that gives us initial insights and can help us direct further research\\n\\n57\\n\\nThe good, bad, and evil\\n\\n• The good and bad\\n\\n– + cheap – NO LABELS, labels are expensive to create and maintain – +/- clustering always works – - Many methods to choose from and knowing the right one can be nontrivial and the differences between many are almost zero, so you need to understand what you\\'re doing\\n\\n• The evil\\n\\n– Curse of dimensionality – Clusters may result from poor data quality – Non-deterministic (e.g. k-means) subject to local minimum. Since it works with\\n\\naverages, k-means does not get much better with Big Data (marginal improvements)\\n\\n– Non spherical data may result in poor clustering (depending on method used) – Unequal cluster sizes may result in poor clustering (depending on method used)\\n\\n58\\n\\n59',\n",
       " 'The good, bad, and evil\\n\\n• Analysts need to ask the following questions\\n\\n– Do you want overlapping or non-overlapping clusters? – Does your data satisfy the assumptions of the clustering algorithm? – How was the distance measure identified? – How many clusters and why? Identifying the number of clusters is a difficult task if the\\n\\nnumber of class labels is not known beforehand\\n\\n– Does your method scale to the size of the data? – Is the compute time congruent with the temporal budget of your business need (i.e.\\n\\ndo you get answers back in time to make meaningful decisions)\\n\\n60']"
      ]
     },
     "execution_count": 8,
     "metadata": {},
     "output_type": "execute_result"
    }
   ],
   "source": [
    "texts"
   ]
  },
  {
   "cell_type": "code",
   "execution_count": null,
   "metadata": {},
   "outputs": [
    {
     "name": "stdout",
     "output_type": "stream",
     "text": [
      "['Example use case General question Does Congress vote in patterns? Is there a pattern? Is there structure in unstructured data? Are basketball players \"priced\" efficiently (based on performance)? How to uncover trends with many variables that you can\\'t easily visualize? Concept k-means clustering k-means clustering in many dimensions']\n"
     ]
    }
   ],
   "source": [
    "print(tables)"
   ]
  },
  {
   "cell_type": "markdown",
   "metadata": {},
   "source": [
    "###Multi Vector Retriver"
   ]
  },
  {
   "cell_type": "code",
   "execution_count": null,
   "metadata": {},
   "outputs": [
    {
     "name": "stdout",
     "output_type": "stream",
     "text": [
      "Collecting langchain_openai\n",
      "  Downloading langchain_openai-0.1.16-py3-none-any.whl.metadata (2.5 kB)\n",
      "Requirement already satisfied: langchain-core<0.3.0,>=0.2.17 in /opt/miniconda3/lib/python3.12/site-packages (from langchain_openai) (0.2.20)\n",
      "Requirement already satisfied: openai<2.0.0,>=1.32.0 in /opt/miniconda3/lib/python3.12/site-packages (from langchain_openai) (1.35.14)\n",
      "Requirement already satisfied: tiktoken<1,>=0.7 in /opt/miniconda3/lib/python3.12/site-packages (from langchain_openai) (0.7.0)\n",
      "Requirement already satisfied: PyYAML>=5.3 in /opt/miniconda3/lib/python3.12/site-packages (from langchain-core<0.3.0,>=0.2.17->langchain_openai) (6.0.1)\n",
      "Requirement already satisfied: jsonpatch<2.0,>=1.33 in /opt/miniconda3/lib/python3.12/site-packages (from langchain-core<0.3.0,>=0.2.17->langchain_openai) (1.33)\n",
      "Requirement already satisfied: langsmith<0.2.0,>=0.1.75 in /opt/miniconda3/lib/python3.12/site-packages (from langchain-core<0.3.0,>=0.2.17->langchain_openai) (0.1.88)\n",
      "Requirement already satisfied: packaging<25,>=23.2 in /opt/miniconda3/lib/python3.12/site-packages (from langchain-core<0.3.0,>=0.2.17->langchain_openai) (23.2)\n",
      "Requirement already satisfied: pydantic<3,>=1 in /opt/miniconda3/lib/python3.12/site-packages (from langchain-core<0.3.0,>=0.2.17->langchain_openai) (2.8.2)\n",
      "Requirement already satisfied: tenacity!=8.4.0,<9.0.0,>=8.1.0 in /opt/miniconda3/lib/python3.12/site-packages (from langchain-core<0.3.0,>=0.2.17->langchain_openai) (8.5.0)\n",
      "Requirement already satisfied: anyio<5,>=3.5.0 in /opt/miniconda3/lib/python3.12/site-packages (from openai<2.0.0,>=1.32.0->langchain_openai) (4.4.0)\n",
      "Requirement already satisfied: distro<2,>=1.7.0 in /opt/miniconda3/lib/python3.12/site-packages (from openai<2.0.0,>=1.32.0->langchain_openai) (1.9.0)\n",
      "Requirement already satisfied: httpx<1,>=0.23.0 in /opt/miniconda3/lib/python3.12/site-packages (from openai<2.0.0,>=1.32.0->langchain_openai) (0.27.0)\n",
      "Requirement already satisfied: sniffio in /opt/miniconda3/lib/python3.12/site-packages (from openai<2.0.0,>=1.32.0->langchain_openai) (1.3.1)\n",
      "Requirement already satisfied: tqdm>4 in /opt/miniconda3/lib/python3.12/site-packages (from openai<2.0.0,>=1.32.0->langchain_openai) (4.66.4)\n",
      "Requirement already satisfied: typing-extensions<5,>=4.7 in /opt/miniconda3/lib/python3.12/site-packages (from openai<2.0.0,>=1.32.0->langchain_openai) (4.12.2)\n",
      "Requirement already satisfied: regex>=2022.1.18 in /opt/miniconda3/lib/python3.12/site-packages (from tiktoken<1,>=0.7->langchain_openai) (2024.5.15)\n",
      "Requirement already satisfied: requests>=2.26.0 in /opt/miniconda3/lib/python3.12/site-packages (from tiktoken<1,>=0.7->langchain_openai) (2.32.2)\n",
      "Requirement already satisfied: idna>=2.8 in /opt/miniconda3/lib/python3.12/site-packages (from anyio<5,>=3.5.0->openai<2.0.0,>=1.32.0->langchain_openai) (3.7)\n",
      "Requirement already satisfied: certifi in /opt/miniconda3/lib/python3.12/site-packages (from httpx<1,>=0.23.0->openai<2.0.0,>=1.32.0->langchain_openai) (2024.7.4)\n",
      "Requirement already satisfied: httpcore==1.* in /opt/miniconda3/lib/python3.12/site-packages (from httpx<1,>=0.23.0->openai<2.0.0,>=1.32.0->langchain_openai) (1.0.5)\n",
      "Requirement already satisfied: h11<0.15,>=0.13 in /opt/miniconda3/lib/python3.12/site-packages (from httpcore==1.*->httpx<1,>=0.23.0->openai<2.0.0,>=1.32.0->langchain_openai) (0.14.0)\n",
      "Requirement already satisfied: jsonpointer>=1.9 in /opt/miniconda3/lib/python3.12/site-packages (from jsonpatch<2.0,>=1.33->langchain-core<0.3.0,>=0.2.17->langchain_openai) (2.1)\n",
      "Requirement already satisfied: orjson<4.0.0,>=3.9.14 in /opt/miniconda3/lib/python3.12/site-packages (from langsmith<0.2.0,>=0.1.75->langchain-core<0.3.0,>=0.2.17->langchain_openai) (3.10.6)\n",
      "Requirement already satisfied: annotated-types>=0.4.0 in /opt/miniconda3/lib/python3.12/site-packages (from pydantic<3,>=1->langchain-core<0.3.0,>=0.2.17->langchain_openai) (0.7.0)\n",
      "Requirement already satisfied: pydantic-core==2.20.1 in /opt/miniconda3/lib/python3.12/site-packages (from pydantic<3,>=1->langchain-core<0.3.0,>=0.2.17->langchain_openai) (2.20.1)\n",
      "Requirement already satisfied: charset-normalizer<4,>=2 in /opt/miniconda3/lib/python3.12/site-packages (from requests>=2.26.0->tiktoken<1,>=0.7->langchain_openai) (3.3.2)\n",
      "Requirement already satisfied: urllib3<3,>=1.21.1 in /opt/miniconda3/lib/python3.12/site-packages (from requests>=2.26.0->tiktoken<1,>=0.7->langchain_openai) (2.2.2)\n",
      "Downloading langchain_openai-0.1.16-py3-none-any.whl (46 kB)\n",
      "\u001b[2K   \u001b[90m━━━━━━━━━━━━━━━━━━━━━━━━━━━━━━━━━━━━━━━━\u001b[0m \u001b[32m46.1/46.1 kB\u001b[0m \u001b[31m575.6 kB/s\u001b[0m eta \u001b[36m0:00:00\u001b[0m\u001b[36m0:00:01\u001b[0m\n",
      "\u001b[?25hInstalling collected packages: langchain_openai\n",
      "Successfully installed langchain_openai-0.1.16\n"
     ]
    }
   ],
   "source": [
    "! pip install langchain_openai"
   ]
  },
  {
   "cell_type": "code",
   "execution_count": null,
   "metadata": {},
   "outputs": [],
   "source": [
    "from langchain_core.output_parsers import StrOutputParser\n",
    "from langchain_core.prompts import ChatPromptTemplate\n",
    "from langchain_openai import ChatOpenAI"
   ]
  },
  {
   "cell_type": "code",
   "execution_count": null,
   "metadata": {},
   "outputs": [],
   "source": [
    "# Generate summaries of text elements\n",
    "def generate_text_summaries(texts, tables, summarize_texts=False):\n",
    "    \"\"\"\n",
    "    Summarize text elements\n",
    "    texts: List of str\n",
    "    tables: List of str\n",
    "    summarize_texts: Bool to summarize texts\n",
    "    \"\"\"\n",
    "\n",
    "    # Prompt\n",
    "    prompt_text = \"\"\"You are an assistant tasked with summarizing tables and text for retrieval. \\\n",
    "    These summaries will be embedded and used to retrieve the raw text or table elements. \\\n",
    "    Give a concise summary of the table or text that is well optimized for retrieval. Table or text: {element} \"\"\"\n",
    "    prompt = ChatPromptTemplate.from_template(prompt_text)\n",
    "\n",
    "    # Text summary chain\n",
    "    model = ChatOpenAI(api_key=api_key,temperature=0, model=\"gpt-4\")\n",
    "    summarize_chain = {\"element\": lambda x: x} | prompt | model | StrOutputParser()\n",
    "\n",
    "    # Initialize empty summaries\n",
    "    text_summaries = []\n",
    "    table_summaries = []\n",
    "\n",
    "    # Apply to text if texts are provided and summarization is requested\n",
    "    if texts and summarize_texts:\n",
    "        text_summaries = summarize_chain.batch(texts, {\"max_concurrency\": 5})\n",
    "    elif texts:\n",
    "        text_summaries = texts\n",
    "\n",
    "    # Apply to tables if tables are provided\n",
    "    if tables:\n",
    "        table_summaries = summarize_chain.batch(tables, {\"max_concurrency\": 5})\n",
    "\n",
    "    return text_summaries, table_summaries\n"
   ]
  },
  {
   "cell_type": "code",
   "execution_count": 37,
   "metadata": {},
   "outputs": [],
   "source": [
    "import os\n",
    "import dotenv\n",
    "dotenv.load_dotenv()\n",
    "\n",
    "proj_key = os.getenv('IA-IN-HIGHERED')\n",
    "org_id = os.getenv('Organzation-ID')\n",
    "api_key = os.getenv('AI_KEY')"
   ]
  },
  {
   "cell_type": "code",
   "execution_count": 38,
   "metadata": {},
   "outputs": [
    {
     "data": {
      "text/plain": [
       "True"
      ]
     },
     "execution_count": 38,
     "metadata": {},
     "output_type": "execute_result"
    }
   ],
   "source": [
    "dotenv.load_dotenv()"
   ]
  },
  {
   "cell_type": "code",
   "execution_count": null,
   "metadata": {},
   "outputs": [],
   "source": [
    "# Get text, table summaries\n",
    "text_summaries, table_summaries = generate_text_summaries(\n",
    "    texts, tables, summarize_texts=True\n",
    ")"
   ]
  },
  {
   "cell_type": "code",
   "execution_count": null,
   "metadata": {},
   "outputs": [
    {
     "data": {
      "text/plain": [
       "['This text provides an overview of machine learning, exploratory data analysis (EDA), and clustering. It discusses classical machine learning, including supervised and unsupervised learning, regression, classification, clustering, association, and dimension reduction. It provides an example of K-means clustering with a given data set. The text also introduces unsupervised machine learning, discussing its application in Congress voting patterns and NBA player compensation. It defines EDA and its types, including clustering, network analysis, and text mining. The author of the text is Brian Wright.',\n",
       " 'The text discusses unsupervised machine learning, specifically focusing on the concept of clustering. Clustering is a technique used to find similarities between groups and is a type of unsupervised machine learning. The similarity is usually defined by a distance metric, with the assumption that data points closer together are related or similar. The text also mentions a case study by GE Capital, where clustering was used to group customers based on their credit card usage and profitability to the company. This resulted in five clusters of consumer credit behavior and a classification model was created to predict customer type and offer tailored products.',\n",
       " 'The text discusses a study aimed at understanding the polarization in the US Congress. The data set includes 427 members who served a full year in 2013, with voting patterns categorized as \"Aye\", \"Nay\", or \"Other\". The study assumes that Democrats and Republicans vote along partisan lines, creating identifiable clusters. The goal is to minimize intra-cluster distance and maximize inter-cluster distance. The k-means clustering method is used, which is based on centroids - the average location of all points in a cluster. The process involves randomly choosing k data points to be centroids.',\n",
       " 'The text provides a step-by-step guide on how to perform k-means clustering in four steps: 1) Randomly choosing k data points as centroids, 2) Assigning each point to the closest centroid, 3) Recalculating centroids based on current cluster membership, and 4) Repeating steps 2-3 until the centroids don\\'t change anymore. It also includes instructions on how to load necessary packages and data in R, specifically using the \"e1071\" and \"ggplot2\" packages. The data used in this example is a dataset of Aye vs. Nay votes in the House of Representatives, categorized by party (Democratic or Republican).',\n",
       " 'The script is a tutorial on how to run the k-means clustering algorithm in R. It explains how to define the data to be clustered, run the algorithm with two centers, and interpret the results. The script also explains the use of the set.seed() function for reproducibility and the default number of iterations. The output of the k-means function includes the cluster each point is allocated to, the centers of each cluster, the total sum of squares, within-cluster sum of distances, total within-cluster sum of distances, between-cluster sum of squares, and the number of points in each cluster. The script also discusses the concept of intra vs. inter-cluster distance.',\n",
       " 'The text describes a process of data analysis and visualization using R programming language. It involves clustering of voting data (Aye and Nay votes) for Democrat-introduced bills. The data is visualized using ggplot2 package, with clusters and party labels represented by different shapes and colors. The analysis identifies two distinct voting patterns, which are then validated. The process includes steps like reading cluster labels, setting up labels for data comparison, plotting the data, analyzing and validating the results.',\n",
       " 'The text discusses the process and importance of clustering in data analysis, specifically in the context of political voting patterns. It explains that clustering is a powerful tool for identifying patterns and outliers in multi-dimensional data, and is more effective than visual interpretation, especially in 3D. The text also outlines the goals of clustering, which include maximizing the separation between clusters and keeping similar points close together. It further explains how to assess the effectiveness of a clustering algorithm, by looking at the variance explained by clusters and the ratio of inter-cluster variance to total variance. The text concludes with a brief overview of the outputs of the kmeans function, a popular clustering algorithm.',\n",
       " 'The text discusses the concept of intra and inter-cluster distances in the context of clustering analysis. It explains the calculation of inter-cluster variance and total variance, and how these are used to determine the quality of clustering. The text also discusses the challenge of selecting the number of clusters (k) when it is not known beforehand. Two methods for selecting k are presented: the Elbow method, which computes the percentage of variance explained by clusters for a range of cluster numbers, and NbClust, which runs 30 different tests and provides a majority vote for the best number of clusters to use. The text includes a script for running the k-means algorithm with 3 centers and calculating the variance accounted for by clusters.',\n",
       " 'The text discusses the automation of a variance calculation for several clusters using a function. The function, explained_variance, is created to run the k-means algorithm and calculate the variance accounted for by clusters. The sapply() function is used to apply the explained_variance function to a vector. The text also mentions the creation of a data frame that contains the new variance variable and the different numbers of k used in the previous function. The Elbow method is mentioned for plotting the data.',\n",
       " 'The text discusses the use of ggplot for data visualization and the NbClust package for determining the optimal number of clusters in a dataset. It explains how to plot data points and lines in ggplot, and how to interpret the resulting graph. The NbClust package is used to run 30 tests and select the optimal number of clusters based on majority vote. The text also provides instructions on how to install and use the NbClust package, and how to interpret its output. The example given involves voting data for Democrat-introduced bills.',\n",
       " 'The text discusses the process of determining the optimal number of clusters in a dataset using the majority rule. The NbClust function is used to generate a variety of outputs, including the Best.nc output which shows the number of clusters recommended by each test. The majority of tests recommend 2 clusters. The text also mentions the visualization of this data through a histogram to clearly show the number of votes for each number of clusters.',\n",
       " 'The text discusses the results, implications, limitations, and pros and cons of a cluster analysis that determined 2 clusters as the winner with 12 votes. The analysis can be used to understand voting patterns, identify swing votes, and strategize for political campaigns. However, the results have limitations such as assumptions about voting patterns and not considering extenuating factors. The text also highlights the challenges of cluster analysis, including the curse of dimensionality, poor data quality, non-deterministic methods, and issues with non-spherical data and unequal cluster sizes.',\n",
       " 'This text discusses key considerations for data analysts when implementing clustering algorithms, including the choice between overlapping or non-overlapping clusters, the suitability of the data for the chosen algorithm, the identification of the distance measure, the determination of the number of clusters, the scalability of the method to the data size, and the alignment of compute time with business needs.']"
      ]
     },
     "execution_count": 16,
     "metadata": {},
     "output_type": "execute_result"
    }
   ],
   "source": [
    "text_summaries"
   ]
  },
  {
   "cell_type": "code",
   "execution_count": null,
   "metadata": {},
   "outputs": [],
   "source": [
    "import base64\n",
    "import os\n",
    "\n",
    "from langchain_core.messages import HumanMessage\n",
    "\n",
    "\n",
    "def encode_image(image_path):\n",
    "    \"\"\"Getting the base64 string\"\"\"\n",
    "    with open(image_path, \"rb\") as image_file:\n",
    "        return base64.b64encode(image_file.read()).decode(\"utf-8\")\n",
    "\n"
   ]
  },
  {
   "cell_type": "code",
   "execution_count": null,
   "metadata": {},
   "outputs": [],
   "source": [
    "def image_summarize(img_base64, prompt):\n",
    "    \"\"\"Make image summary\"\"\"\n",
    "    chat = ChatOpenAI(api_key=api_key, model=\"gpt-4o-mini\", max_tokens=1024)\n",
    "\n",
    "    msg = chat.invoke(\n",
    "        [\n",
    "            HumanMessage(\n",
    "                content=[\n",
    "                    {\"type\": \"text\", \"text\": prompt},\n",
    "                    {\n",
    "                        \"type\": \"image_url\",\n",
    "                        \"image_url\": {\"url\": f\"data:image/jpeg;base64,{img_base64}\"},\n",
    "                    },\n",
    "                ]\n",
    "            )\n",
    "        ]\n",
    "    )\n",
    "    return msg.content\n",
    "\n",
    "\n",
    "def generate_img_summaries(path):\n",
    "    \"\"\"\n",
    "    Generate summaries and base64 encoded strings for images\n",
    "    path: Path to list of .jpg files extracted by Unstructured\n",
    "    \"\"\"\n",
    "\n",
    "    # Store base64 encoded images\n",
    "    img_base64_list = []\n",
    "\n",
    "    # Store image summaries\n",
    "    image_summaries = []\n",
    "\n",
    "    # Prompt\n",
    "    prompt = \"\"\"You are an assistant tasked with summarizing images for retrieval. \\\n",
    "    These summaries will be embedded and used to retrieve the raw image. \\\n",
    "    Give a concise summary of the image that is well optimized for retrieval.\"\"\"\n",
    "\n",
    "    # Apply to images\n",
    "    for img_file in sorted(os.listdir(path)):\n",
    "        if img_file.endswith(\".jpg\"):\n",
    "            img_path = os.path.join(path, img_file)\n",
    "            base64_image = encode_image(img_path)\n",
    "            img_base64_list.append(base64_image)\n",
    "            image_summaries.append(image_summarize(base64_image, prompt))\n",
    "\n",
    "    return img_base64_list, image_summaries\n"
   ]
  },
  {
   "cell_type": "code",
   "execution_count": null,
   "metadata": {},
   "outputs": [],
   "source": [
    "# Image summaries\n",
    "filepath = \"/Users/ananyasai/Downloads/IA-in-HigherEd/figures\"\n",
    "img_base64_list, image_summaries = generate_img_summaries(filepath)"
   ]
  },
  {
   "cell_type": "code",
   "execution_count": 22,
   "metadata": {},
   "outputs": [
    {
     "name": "stdout",
     "output_type": "stream",
     "text": [
      "['Title slide for a presentation on \"Machine Learning Overview, EDA (Exploratory Data Analysis), and Clustering,\" authored by Brian Wright.', 'Text featuring the name \"Brian Wright\" prominently displayed in a formal or professional format.', 'Email address displayed: brianwright@virginia.edu. Text in a professional font and layout.', 'Abstract design featuring colorful dots radiating outward from a central circle with the text \"PRACTICE OF DATA SCIENCE.\" The background is dark, enhancing the visual impact of the vibrant dots.', 'Illustration of the United States Capitol dome, featuring its iconic architectural details and golden statue on top.', 'A large assembly in a congressional chamber, featuring a speaker at a podium in front of an American flag, addressing a crowd of seated lawmakers and officials. The room is filled with attendees, showcasing a formal legislative session or address.', 'Scatter plot depicting the relationship between Aye and Nay votes in the House of Representatives. The x-axis represents the number of Aye votes, while the y-axis indicates the number of Nay votes. The data points are scattered, showing a general trend of decreasing Nay votes as Aye votes increase.', 'Scatter plot showing two clusters of black points with dashed ellipses indicating their boundaries. The image highlights two types of distances: \"Intra-Cluster Distance\" in red, representing the distance within a cluster, and \"Inter-Cluster Distance\" in blue, indicating the distance between the two clusters. The axes are labeled as x and y.', 'Scatter plot depicting \"Aye vs. Nay votes in House of Representatives.\" The x-axis represents the number of Aye votes, while the y-axis shows the number of Nay votes. Two highlighted points: a blue point indicating a high number of Nay votes (around 300) and a red point indicating a lower number of Nay votes (around 250). The plot includes numerous black dots representing individual voting outcomes. Arrows emphasize the contrasting vote totals of the highlighted points.', 'Scatter plot depicting Aye versus Nay votes in the House of Representatives. The x-axis represents the number of Aye votes, while the y-axis shows the number of Nay votes. Numerous black data points illustrate voting patterns, with notable red and blue markers indicating specific clusters or outliers. The plot highlights the relationship between Aye and Nay votes among representatives.', 'Scatter plot illustrating Aye vs. Nay votes in the House of Representatives. Data points are clustered into two groups, with blue representing Democratic votes and red representing Republican votes. The x-axis indicates the number of Aye votes, while the y-axis shows the number of Nay votes. Clusters are labeled as Cluster 1 and Cluster 2.', 'Scatter plot comparing \"Aye\" versus \"Nay\" votes in the House of Representatives, categorized by party affiliation (Democratic in blue, Republican in red). It depicts two clusters, with Democrats clustered around lower \"Aye\" and higher \"Nay\" votes, while Republicans are clustered with higher \"Aye\" and lower \"Nay\" votes. The plot includes axes labeled \"Number of Aye Votes\" and \"Number of Nay Votes.\"', 'Scatter plot depicting Aye versus Nay votes in the House of Representatives, with data points categorized by political party (Democratic in blue, Republican in red) and clustered into two groups. The x-axis represents the number of Aye votes, while the y-axis shows the number of Nay votes. A highlighted area indicates a specific cluster with low Aye and Nay vote counts.', \"Image summary: The image displays R code for installing and loading the 'e1071' and 'ggplot2' packages. It includes a prompt to learn about the 'e1071' package's functionalities, along with a snippet of documentation showing various functions related to clustering and data mining.\", \"Image shows a screenshot of documentation for the R package 'e1071'. It includes an index with functions such as 'allShortestPaths', 'bclust', 'bincombinations', 'bootstrap.lca', and 'boxplot.bclust', along with brief descriptions of their purposes related to clustering and graph analysis.\", 'Illustration of the United States Capitol building, featuring its iconic dome and central lantern. The image is predominantly in neutral colors with a clean, minimalistic design.', 'Diagram illustrating classical machine learning concepts, divided into two main categories: supervised and unsupervised learning. \\n\\n- **Supervised Learning** includes:\\n  - **Classification** (predicting categories, e.g., sorting socks by color)\\n  - **Regression** (predicting numerical values, e.g., dividing ties by length)\\n\\n- **Unsupervised Learning** includes:\\n  - **Clustering** (grouping similar items, e.g., organizing clothing)\\n  - **Association** (finding relationships, e.g., identifying frequently worn outfits)\\n  - **Dimension Reduction** (simplifying data, e.g., optimizing outfits from a wardrobe)\\n\\nThe diagram features visual elements such as examples and illustrations related to clothing.', 'Table displaying U.S. House voting data, including last names, party affiliation (Democrat or Republican), and voting counts (yea, nay, other) for various members. The focus is on Democratic representatives.', 'Illustration of the United States Capitol dome with a decorative design element. The word \"Script\" is partially visible, suggesting a focus on text or writing.', 'Illustration of the U.S. Capitol building, featuring its distinctive dome and architectural details.', 'Summary: The image displays output from a K-means clustering analysis, indicating two clusters with sizes 202 and 225. It includes cluster means, a clustering vector assigning data points to clusters, and the within-cluster sum of squares, highlighting that 79.5% of variance is explained by the clustering. Additional components in the analysis are also listed.', 'Illustration of the U.S. Capitol dome, featuring its iconic architectural details and a prominent gold finial on top.', 'Scatter plot illustrating clustering concepts with black points representing data points. Two clusters are outlined with dashed black ellipses. Annotations highlight \"Intra-Cluster Distance\" (red) within a cluster, and \"Inter-Cluster Distance\" (blue) between clusters, along with the term \"betweenness.\" The axes are labeled x and y.', 'Illustration of the United States Capitol building, featuring its iconic dome and architectural details.', 'Image of the United States Capitol building, featuring its iconic dome and architectural details, set against a simple background.', 'Scatter plot illustrating Aye vs. Nay votes for Democrat-introduced bills. The x-axis represents the number of Aye votes, while the y-axis represents the number of Nay votes. Two clusters are identified: Cluster 1 (in red) shows a concentration of lower Aye and higher Nay votes, while Cluster 2 (in blue) indicates higher Aye and lower Nay votes. The plot highlights voting patterns among legislators.', 'Illustration of the United States Capitol building with a prominent dome and statue on top, depicted in a minimalist style.', 'Illustration of a dome structure, resembling the United States Capitol building, featuring classical architectural elements and a central spire.', 'Scatter plot depicting Aye vs. Nay votes for Democrat-introduced bills. The plot highlights two clusters, with Cluster 1 showing a higher number of Nay votes (around 120-160) and Cluster 2 showing fewer Aye votes (around 60-130). The clusters are outlined with blue and red dashed circles, indicating distinct voting patterns among the bills.', 'Illustration of the U.S. Capitol dome, featuring its iconic architectural details and a partially colored background.', 'Scatter plot comparing Aye vs. Nay votes for Democrat-introduced bills, illustrating two clusters. Red points represent Republican votes, while blue points represent Democratic votes. The x-axis indicates the number of Aye votes, and the y-axis indicates the number of Nay votes, with clusters labeled numerically.', 'The image is blank or empty, with no discernible content.', 'Illustration of a dome, resembling a prominent government building, characterized by a circular structure, columns, and a decorative spire on top.', 'Scatter plot comparing Aye vs. Nay votes for Democrat-introduced bills, featuring two clusters. Red dots represent Republican votes, while blue dots represent Democratic votes. The x-axis indicates the number of Aye votes, and the y-axis indicates the number of Nay votes. Clusters are labeled 1 and 2, with specific data points highlighted in a circled area at the lower left section of the plot.', 'Scatter plot illustrating political voting patterns, with red dots representing Republican votes and blue dots for Democratic votes. The graph highlights polarization between the two parties, showing clusters of votes, and includes annotations about identifying outliers and assessing voting trends.', 'Grid displaying the number \"2\" in red and blue colors, with multiple instances clustered together.', 'Text in a stylized font that reads \"Outliers?\" in a light blue color. The background appears simple and unadorned, emphasizing the text.', '3D scatter plot depicting voting results in the House of Representatives. Data points are color-coded: blue for \"yea\" votes and red for \"nay\" votes. Axes represent numerical values related to voting outcomes, with \"yea\" votes clustering towards the lower left and \"nay\" votes towards the upper right. The title indicates the context of the data.', 'Diagram illustrating clustering concepts, emphasizing the importance of maximizing inter-cluster distance (separation between clusters) and minimizing intra-cluster distance (closeness of similar points within a cluster). The graph features two distinct clusters of black points with arrows indicating the directions for inter-cluster and intra-cluster distances.', 'Scatter plot illustrating two clusters of data points (black dots) with labeled distances. The labels indicate \"Intra-Cluster Distance\" (red arrow) within a cluster and \"Inter-Cluster Distance\" (blue arrow) between clusters. The plot\\'s axes represent two dimensions (x and y).', 'Scatter plot illustrating clustering concepts, with two distinct clusters of black points. Annotations indicate \"Intra-Cluster Distance\" in red, highlighting distance within a cluster, and \"Inter-Cluster Distance\" in blue, emphasizing distance between clusters. The term \"betweenness\" is also noted, suggesting a relationship between the clusters. Axes labeled X and Y.', 'Scatter plot illustrating clustering concepts with black dots representing data points. Two main clusters are highlighted by dashed ellipses. \"Intra-Cluster Distance\" is labeled in red, indicating distance within a cluster, while \"Inter-Cluster Distance\" in blue denotes the distance between clusters. The term \"betweenness\" is also noted. The axes are labeled x and y.', 'Illustration of the U.S. Capitol building dome, featuring architectural details and a prominent flagpole at the top.', 'Scatter plot depicting Aye vs. Nay votes for Democrat-introduced bills. Red points represent Republican votes, while blue points represent Democratic votes. The x-axis shows the number of Aye votes, and the y-axis indicates the number of Nay votes. Two clusters are identified: Cluster 1 (red) and Cluster 2 (blue), with varying voting patterns between the two parties.', 'Scatter plot illustrating two distinct clusters of black points. The plot highlights \"Intra-Cluster Distance\" in red, indicating the distance within a cluster, and \"Inter-Cluster Distance\" in blue, showing the distance between the clusters. Dashed ovals outline the clusters. Axes are labeled with x and y values.', 'Illustration of the U.S. Capitol building dome, featuring its distinctive architecture and decorative elements.', \"Scatter plot illustrating the relationship between 'Aye' and 'Nay' votes on Democrat-introduced bills, color-coded by political party (blue for Democrats, red for Republicans). The plot features three clusters, indicated by dashed outlines, representing differing voting patterns. The x-axis shows the number of 'Aye' votes, while the y-axis displays the number of 'Nay' votes. Cluster identification is provided in a legend, highlighting distinct voting behaviors among party members.\", 'Illustration of the United States Capitol dome, featuring its iconic rotunda and statue on top, designed in a light color scheme.', 'Illustration of the United States Capitol building dome, featuring its distinct architectural design and topped with a statue.', 'Image features the U.S. Capitol building, partially visible, with the word \"Script\" prominently displayed. Ideal for topics related to government, legislation, or political discourse.', 'Illustration of the United States Capitol building, featuring its iconic dome and architectural details.', 'Illustration of the United States Capitol dome, featuring its iconic architectural design and topped with a statue.', 'Scatter plot illustrating the relationship between \"Aye\" and \"Nay\" votes for Democrat-introduced bills, with red dots representing Republican votes and blue dots representing Democratic votes. The data is divided into two clusters, labeled Cluster 1 and Cluster 2, indicating different voting patterns among the parties. The x-axis shows the number of Aye votes, while the y-axis shows the number of Nay votes.', 'A plot showing the relationship between the number of clusters (k) and the inter-cluster variance normalized by total variance. The graph indicates a significant drop in variance at k = 2, marked with an arrow, suggesting this as an optimal clustering point. The x-axis represents the number of clusters (k), ranging from 0 to 10, while the y-axis shows the inter-cluster variance/total variance ratio, ranging from 0 to 1.', 'Illustration of the U.S. Capitol dome, featuring its iconic architectural design and prominent cupola.', 'Illustration of the United States Capitol dome, featuring its iconic architectural details and a flagpole at the top.', 'The image displays a console output showing clustering analysis results from a dataset titled \"$Best.nc\". It includes metrics such as \"Number_clusters,\" \"Value_Index,\" and various clustering methods (e.g., KL, CH Hartigan, CCC, Scott). The output provides numerical values for different clustering indices and corresponding performance measures, indicating the effectiveness of each method in evaluating cluster quality.', 'Illustration of the United States Capitol dome, featuring a prominent cupola and decorative elements, set against a plain background.', 'Data table from R script showing clustering evaluation metrics. Key columns include Number of Clusters, KL, GH, Hartigan, CCC, Scott, Marriot, TrCovW, TraceW, Friedman, Rubin, and Cindex. Values indicate various statistical indices for assessing clustering performance.', 'Bar graph depicting cluster analysis results, highlighting that the optimal number of clusters is 2, with 12 votes. The x-axis represents the number of clusters (0-15), and the y-axis indicates the number of votes. The tallest bar corresponds to 2 clusters.', 'A cartoon featuring a man in a suit and hat standing by a red fence, holding a briefcase. The text below humorously states that he is an expert in his field, but his \"field\" is a small ten-foot square plot of pasture in Iowa.', 'The image features a grid of clustering results from various algorithms: KMeans, DBSCAN, Spectral Clustering, MeanShift, and Ward. Each algorithm is applied to three distinct datasets, showcasing different patterns: concentric circles, spiral shapes, and clusters of points. The visual representation highlights how each algorithm groups the data points, with varying colors indicating different clusters.', '3D scatter plot displaying three distinct clusters of data points. The clusters are color-coded: red, green, and blue, indicating separate groups within the dataset. The plot features a three-dimensional grid.', 'A network diagram displaying interconnected nodes, representing various entities or concepts. Nodes are color-coded, indicating different categories or relationships, with edges illustrating connections between them. The layout suggests a complex web of interactions, with clusters forming around central points. Key labels are visible on the nodes, indicating names or terms relevant to the network.', 'A word cloud featuring terms related to social media, networking, privacy, and digital journalism. Prominent words include \"social,\" \"media,\" \"public,\" \"private,\" and \"information,\" highlighting the interplay between online presence and personal privacy.', 'Black arrow pointing to the right.', 'Illustration of a smiling woman with short, dark hair and purple clothing. She has a cheerful expression and is wearing round earrings, set against a light blue background.', 'Illustration depicting multiple figures in orange coats clustered together, each holding drinks. A sign in the foreground reads \"CLASSIFICATION by CLUSTERING,\" symbolizing the concept of grouping items or individuals based on shared characteristics. The scene is humorous and exaggerated, emphasizing the idea of clustering in a social context.', 'Diagram illustrating a clustering-based framework for optimizing credit policy, featuring a new credit applicant represented as a point, with arrows indicating clustering towards categories based on delinquency, spending, and revolving credit. The axes are labeled \"Delinquency,\" \"Spending,\" and \"Revolving.\"']\n"
     ]
    }
   ],
   "source": [
    "print(image_summaries)"
   ]
  },
  {
   "cell_type": "markdown",
   "metadata": {},
   "source": [
    "## Add raw docs and doc summaries to Multi Vector Retriever"
   ]
  },
  {
   "cell_type": "code",
   "execution_count": 25,
   "metadata": {},
   "outputs": [
    {
     "name": "stdout",
     "output_type": "stream",
     "text": [
      "Collecting langchain_chroma\n",
      "  Downloading langchain_chroma-0.1.2-py3-none-any.whl.metadata (1.3 kB)\n",
      "Requirement already satisfied: chromadb<0.6.0,>=0.4.0 in /opt/miniconda3/lib/python3.12/site-packages (from langchain_chroma) (0.5.4)\n",
      "Requirement already satisfied: fastapi<1,>=0.95.2 in /opt/miniconda3/lib/python3.12/site-packages (from langchain_chroma) (0.111.1)\n",
      "Requirement already satisfied: langchain-core<0.3,>=0.1.40 in /opt/miniconda3/lib/python3.12/site-packages (from langchain_chroma) (0.2.20)\n",
      "Requirement already satisfied: numpy<2.0.0,>=1.26.0 in /opt/miniconda3/lib/python3.12/site-packages (from langchain_chroma) (1.26.4)\n",
      "Requirement already satisfied: build>=1.0.3 in /opt/miniconda3/lib/python3.12/site-packages (from chromadb<0.6.0,>=0.4.0->langchain_chroma) (1.2.1)\n",
      "Requirement already satisfied: pydantic>=1.9 in /opt/miniconda3/lib/python3.12/site-packages (from chromadb<0.6.0,>=0.4.0->langchain_chroma) (2.8.2)\n",
      "Requirement already satisfied: chroma-hnswlib==0.7.5 in /opt/miniconda3/lib/python3.12/site-packages (from chromadb<0.6.0,>=0.4.0->langchain_chroma) (0.7.5)\n",
      "Requirement already satisfied: uvicorn>=0.18.3 in /opt/miniconda3/lib/python3.12/site-packages (from uvicorn[standard]>=0.18.3->chromadb<0.6.0,>=0.4.0->langchain_chroma) (0.30.1)\n",
      "Requirement already satisfied: posthog>=2.4.0 in /opt/miniconda3/lib/python3.12/site-packages (from chromadb<0.6.0,>=0.4.0->langchain_chroma) (3.5.0)\n",
      "Requirement already satisfied: typing-extensions>=4.5.0 in /opt/miniconda3/lib/python3.12/site-packages (from chromadb<0.6.0,>=0.4.0->langchain_chroma) (4.12.2)\n",
      "Requirement already satisfied: onnxruntime>=1.14.1 in /opt/miniconda3/lib/python3.12/site-packages (from chromadb<0.6.0,>=0.4.0->langchain_chroma) (1.18.1)\n",
      "Requirement already satisfied: opentelemetry-api>=1.2.0 in /opt/miniconda3/lib/python3.12/site-packages (from chromadb<0.6.0,>=0.4.0->langchain_chroma) (1.25.0)\n",
      "Requirement already satisfied: opentelemetry-exporter-otlp-proto-grpc>=1.2.0 in /opt/miniconda3/lib/python3.12/site-packages (from chromadb<0.6.0,>=0.4.0->langchain_chroma) (1.25.0)\n",
      "Requirement already satisfied: opentelemetry-instrumentation-fastapi>=0.41b0 in /opt/miniconda3/lib/python3.12/site-packages (from chromadb<0.6.0,>=0.4.0->langchain_chroma) (0.46b0)\n",
      "Requirement already satisfied: opentelemetry-sdk>=1.2.0 in /opt/miniconda3/lib/python3.12/site-packages (from chromadb<0.6.0,>=0.4.0->langchain_chroma) (1.25.0)\n",
      "Requirement already satisfied: tokenizers>=0.13.2 in /opt/miniconda3/lib/python3.12/site-packages (from chromadb<0.6.0,>=0.4.0->langchain_chroma) (0.19.1)\n",
      "Requirement already satisfied: pypika>=0.48.9 in /opt/miniconda3/lib/python3.12/site-packages (from chromadb<0.6.0,>=0.4.0->langchain_chroma) (0.48.9)\n",
      "Requirement already satisfied: tqdm>=4.65.0 in /opt/miniconda3/lib/python3.12/site-packages (from chromadb<0.6.0,>=0.4.0->langchain_chroma) (4.66.4)\n",
      "Requirement already satisfied: overrides>=7.3.1 in /opt/miniconda3/lib/python3.12/site-packages (from chromadb<0.6.0,>=0.4.0->langchain_chroma) (7.7.0)\n",
      "Requirement already satisfied: importlib-resources in /opt/miniconda3/lib/python3.12/site-packages (from chromadb<0.6.0,>=0.4.0->langchain_chroma) (6.4.0)\n",
      "Requirement already satisfied: grpcio>=1.58.0 in /opt/miniconda3/lib/python3.12/site-packages (from chromadb<0.6.0,>=0.4.0->langchain_chroma) (1.64.1)\n",
      "Requirement already satisfied: bcrypt>=4.0.1 in /opt/miniconda3/lib/python3.12/site-packages (from chromadb<0.6.0,>=0.4.0->langchain_chroma) (4.1.3)\n",
      "Requirement already satisfied: typer>=0.9.0 in /opt/miniconda3/lib/python3.12/site-packages (from chromadb<0.6.0,>=0.4.0->langchain_chroma) (0.12.3)\n",
      "Requirement already satisfied: kubernetes>=28.1.0 in /opt/miniconda3/lib/python3.12/site-packages (from chromadb<0.6.0,>=0.4.0->langchain_chroma) (30.1.0)\n",
      "Requirement already satisfied: tenacity>=8.2.3 in /opt/miniconda3/lib/python3.12/site-packages (from chromadb<0.6.0,>=0.4.0->langchain_chroma) (8.5.0)\n",
      "Requirement already satisfied: PyYAML>=6.0.0 in /opt/miniconda3/lib/python3.12/site-packages (from chromadb<0.6.0,>=0.4.0->langchain_chroma) (6.0.1)\n",
      "Requirement already satisfied: mmh3>=4.0.1 in /opt/miniconda3/lib/python3.12/site-packages (from chromadb<0.6.0,>=0.4.0->langchain_chroma) (4.1.0)\n",
      "Requirement already satisfied: orjson>=3.9.12 in /opt/miniconda3/lib/python3.12/site-packages (from chromadb<0.6.0,>=0.4.0->langchain_chroma) (3.10.6)\n",
      "Requirement already satisfied: httpx>=0.27.0 in /opt/miniconda3/lib/python3.12/site-packages (from chromadb<0.6.0,>=0.4.0->langchain_chroma) (0.27.0)\n",
      "Requirement already satisfied: starlette<0.38.0,>=0.37.2 in /opt/miniconda3/lib/python3.12/site-packages (from fastapi<1,>=0.95.2->langchain_chroma) (0.37.2)\n",
      "Requirement already satisfied: fastapi-cli>=0.0.2 in /opt/miniconda3/lib/python3.12/site-packages (from fastapi<1,>=0.95.2->langchain_chroma) (0.0.4)\n",
      "Requirement already satisfied: jinja2>=2.11.2 in /opt/miniconda3/lib/python3.12/site-packages (from fastapi<1,>=0.95.2->langchain_chroma) (3.1.4)\n",
      "Requirement already satisfied: python-multipart>=0.0.7 in /opt/miniconda3/lib/python3.12/site-packages (from fastapi<1,>=0.95.2->langchain_chroma) (0.0.9)\n",
      "Requirement already satisfied: email_validator>=2.0.0 in /opt/miniconda3/lib/python3.12/site-packages (from fastapi<1,>=0.95.2->langchain_chroma) (2.2.0)\n",
      "Requirement already satisfied: jsonpatch<2.0,>=1.33 in /opt/miniconda3/lib/python3.12/site-packages (from langchain-core<0.3,>=0.1.40->langchain_chroma) (1.33)\n",
      "Requirement already satisfied: langsmith<0.2.0,>=0.1.75 in /opt/miniconda3/lib/python3.12/site-packages (from langchain-core<0.3,>=0.1.40->langchain_chroma) (0.1.88)\n",
      "Requirement already satisfied: packaging<25,>=23.2 in /opt/miniconda3/lib/python3.12/site-packages (from langchain-core<0.3,>=0.1.40->langchain_chroma) (23.2)\n",
      "Requirement already satisfied: pyproject_hooks in /opt/miniconda3/lib/python3.12/site-packages (from build>=1.0.3->chromadb<0.6.0,>=0.4.0->langchain_chroma) (1.1.0)\n",
      "Requirement already satisfied: dnspython>=2.0.0 in /opt/miniconda3/lib/python3.12/site-packages (from email_validator>=2.0.0->fastapi<1,>=0.95.2->langchain_chroma) (2.6.1)\n",
      "Requirement already satisfied: idna>=2.0.0 in /opt/miniconda3/lib/python3.12/site-packages (from email_validator>=2.0.0->fastapi<1,>=0.95.2->langchain_chroma) (3.7)\n",
      "Requirement already satisfied: anyio in /opt/miniconda3/lib/python3.12/site-packages (from httpx>=0.27.0->chromadb<0.6.0,>=0.4.0->langchain_chroma) (4.4.0)\n",
      "Requirement already satisfied: certifi in /opt/miniconda3/lib/python3.12/site-packages (from httpx>=0.27.0->chromadb<0.6.0,>=0.4.0->langchain_chroma) (2024.7.4)\n",
      "Requirement already satisfied: httpcore==1.* in /opt/miniconda3/lib/python3.12/site-packages (from httpx>=0.27.0->chromadb<0.6.0,>=0.4.0->langchain_chroma) (1.0.5)\n",
      "Requirement already satisfied: sniffio in /opt/miniconda3/lib/python3.12/site-packages (from httpx>=0.27.0->chromadb<0.6.0,>=0.4.0->langchain_chroma) (1.3.1)\n",
      "Requirement already satisfied: h11<0.15,>=0.13 in /opt/miniconda3/lib/python3.12/site-packages (from httpcore==1.*->httpx>=0.27.0->chromadb<0.6.0,>=0.4.0->langchain_chroma) (0.14.0)\n",
      "Requirement already satisfied: MarkupSafe>=2.0 in /opt/miniconda3/lib/python3.12/site-packages (from jinja2>=2.11.2->fastapi<1,>=0.95.2->langchain_chroma) (2.1.5)\n",
      "Requirement already satisfied: jsonpointer>=1.9 in /opt/miniconda3/lib/python3.12/site-packages (from jsonpatch<2.0,>=1.33->langchain-core<0.3,>=0.1.40->langchain_chroma) (2.1)\n",
      "Requirement already satisfied: six>=1.9.0 in /opt/miniconda3/lib/python3.12/site-packages (from kubernetes>=28.1.0->chromadb<0.6.0,>=0.4.0->langchain_chroma) (1.16.0)\n",
      "Requirement already satisfied: python-dateutil>=2.5.3 in /opt/miniconda3/lib/python3.12/site-packages (from kubernetes>=28.1.0->chromadb<0.6.0,>=0.4.0->langchain_chroma) (2.9.0)\n",
      "Requirement already satisfied: google-auth>=1.0.1 in /opt/miniconda3/lib/python3.12/site-packages (from kubernetes>=28.1.0->chromadb<0.6.0,>=0.4.0->langchain_chroma) (2.32.0)\n",
      "Requirement already satisfied: websocket-client!=0.40.0,!=0.41.*,!=0.42.*,>=0.32.0 in /opt/miniconda3/lib/python3.12/site-packages (from kubernetes>=28.1.0->chromadb<0.6.0,>=0.4.0->langchain_chroma) (1.8.0)\n",
      "Requirement already satisfied: requests in /opt/miniconda3/lib/python3.12/site-packages (from kubernetes>=28.1.0->chromadb<0.6.0,>=0.4.0->langchain_chroma) (2.32.2)\n",
      "Requirement already satisfied: requests-oauthlib in /opt/miniconda3/lib/python3.12/site-packages (from kubernetes>=28.1.0->chromadb<0.6.0,>=0.4.0->langchain_chroma) (2.0.0)\n",
      "Requirement already satisfied: oauthlib>=3.2.2 in /opt/miniconda3/lib/python3.12/site-packages (from kubernetes>=28.1.0->chromadb<0.6.0,>=0.4.0->langchain_chroma) (3.2.2)\n",
      "Requirement already satisfied: urllib3>=1.24.2 in /opt/miniconda3/lib/python3.12/site-packages (from kubernetes>=28.1.0->chromadb<0.6.0,>=0.4.0->langchain_chroma) (2.2.2)\n",
      "Requirement already satisfied: coloredlogs in /opt/miniconda3/lib/python3.12/site-packages (from onnxruntime>=1.14.1->chromadb<0.6.0,>=0.4.0->langchain_chroma) (15.0.1)\n",
      "Requirement already satisfied: flatbuffers in /opt/miniconda3/lib/python3.12/site-packages (from onnxruntime>=1.14.1->chromadb<0.6.0,>=0.4.0->langchain_chroma) (24.3.25)\n",
      "Requirement already satisfied: protobuf in /opt/miniconda3/lib/python3.12/site-packages (from onnxruntime>=1.14.1->chromadb<0.6.0,>=0.4.0->langchain_chroma) (5.27.2)\n",
      "Requirement already satisfied: sympy in /opt/miniconda3/lib/python3.12/site-packages (from onnxruntime>=1.14.1->chromadb<0.6.0,>=0.4.0->langchain_chroma) (1.13.0)\n",
      "Requirement already satisfied: deprecated>=1.2.6 in /opt/miniconda3/lib/python3.12/site-packages (from opentelemetry-api>=1.2.0->chromadb<0.6.0,>=0.4.0->langchain_chroma) (1.2.14)\n",
      "Requirement already satisfied: importlib-metadata<=7.1,>=6.0 in /opt/miniconda3/lib/python3.12/site-packages (from opentelemetry-api>=1.2.0->chromadb<0.6.0,>=0.4.0->langchain_chroma) (7.1.0)\n",
      "Requirement already satisfied: googleapis-common-protos~=1.52 in /opt/miniconda3/lib/python3.12/site-packages (from opentelemetry-exporter-otlp-proto-grpc>=1.2.0->chromadb<0.6.0,>=0.4.0->langchain_chroma) (1.63.2)\n",
      "Requirement already satisfied: opentelemetry-exporter-otlp-proto-common==1.25.0 in /opt/miniconda3/lib/python3.12/site-packages (from opentelemetry-exporter-otlp-proto-grpc>=1.2.0->chromadb<0.6.0,>=0.4.0->langchain_chroma) (1.25.0)\n",
      "Requirement already satisfied: opentelemetry-proto==1.25.0 in /opt/miniconda3/lib/python3.12/site-packages (from opentelemetry-exporter-otlp-proto-grpc>=1.2.0->chromadb<0.6.0,>=0.4.0->langchain_chroma) (1.25.0)\n",
      "Collecting protobuf (from onnxruntime>=1.14.1->chromadb<0.6.0,>=0.4.0->langchain_chroma)\n",
      "  Downloading protobuf-4.25.4-cp37-abi3-macosx_10_9_universal2.whl.metadata (541 bytes)\n",
      "Requirement already satisfied: opentelemetry-instrumentation-asgi==0.46b0 in /opt/miniconda3/lib/python3.12/site-packages (from opentelemetry-instrumentation-fastapi>=0.41b0->chromadb<0.6.0,>=0.4.0->langchain_chroma) (0.46b0)\n",
      "Requirement already satisfied: opentelemetry-instrumentation==0.46b0 in /opt/miniconda3/lib/python3.12/site-packages (from opentelemetry-instrumentation-fastapi>=0.41b0->chromadb<0.6.0,>=0.4.0->langchain_chroma) (0.46b0)\n",
      "Requirement already satisfied: opentelemetry-semantic-conventions==0.46b0 in /opt/miniconda3/lib/python3.12/site-packages (from opentelemetry-instrumentation-fastapi>=0.41b0->chromadb<0.6.0,>=0.4.0->langchain_chroma) (0.46b0)\n",
      "Requirement already satisfied: opentelemetry-util-http==0.46b0 in /opt/miniconda3/lib/python3.12/site-packages (from opentelemetry-instrumentation-fastapi>=0.41b0->chromadb<0.6.0,>=0.4.0->langchain_chroma) (0.46b0)\n",
      "Requirement already satisfied: setuptools>=16.0 in /opt/miniconda3/lib/python3.12/site-packages (from opentelemetry-instrumentation==0.46b0->opentelemetry-instrumentation-fastapi>=0.41b0->chromadb<0.6.0,>=0.4.0->langchain_chroma) (69.5.1)\n",
      "Requirement already satisfied: wrapt<2.0.0,>=1.0.0 in /opt/miniconda3/lib/python3.12/site-packages (from opentelemetry-instrumentation==0.46b0->opentelemetry-instrumentation-fastapi>=0.41b0->chromadb<0.6.0,>=0.4.0->langchain_chroma) (1.16.0)\n",
      "Requirement already satisfied: asgiref~=3.0 in /opt/miniconda3/lib/python3.12/site-packages (from opentelemetry-instrumentation-asgi==0.46b0->opentelemetry-instrumentation-fastapi>=0.41b0->chromadb<0.6.0,>=0.4.0->langchain_chroma) (3.8.1)\n",
      "Requirement already satisfied: monotonic>=1.5 in /opt/miniconda3/lib/python3.12/site-packages (from posthog>=2.4.0->chromadb<0.6.0,>=0.4.0->langchain_chroma) (1.6)\n",
      "Requirement already satisfied: backoff>=1.10.0 in /opt/miniconda3/lib/python3.12/site-packages (from posthog>=2.4.0->chromadb<0.6.0,>=0.4.0->langchain_chroma) (2.2.1)\n",
      "Requirement already satisfied: annotated-types>=0.4.0 in /opt/miniconda3/lib/python3.12/site-packages (from pydantic>=1.9->chromadb<0.6.0,>=0.4.0->langchain_chroma) (0.7.0)\n",
      "Requirement already satisfied: pydantic-core==2.20.1 in /opt/miniconda3/lib/python3.12/site-packages (from pydantic>=1.9->chromadb<0.6.0,>=0.4.0->langchain_chroma) (2.20.1)\n",
      "Requirement already satisfied: huggingface-hub<1.0,>=0.16.4 in /opt/miniconda3/lib/python3.12/site-packages (from tokenizers>=0.13.2->chromadb<0.6.0,>=0.4.0->langchain_chroma) (0.23.5)\n",
      "Requirement already satisfied: click>=8.0.0 in /opt/miniconda3/lib/python3.12/site-packages (from typer>=0.9.0->chromadb<0.6.0,>=0.4.0->langchain_chroma) (8.1.7)\n",
      "Requirement already satisfied: shellingham>=1.3.0 in /opt/miniconda3/lib/python3.12/site-packages (from typer>=0.9.0->chromadb<0.6.0,>=0.4.0->langchain_chroma) (1.5.4)\n",
      "Requirement already satisfied: rich>=10.11.0 in /opt/miniconda3/lib/python3.12/site-packages (from typer>=0.9.0->chromadb<0.6.0,>=0.4.0->langchain_chroma) (13.7.1)\n",
      "Requirement already satisfied: httptools>=0.5.0 in /opt/miniconda3/lib/python3.12/site-packages (from uvicorn[standard]>=0.18.3->chromadb<0.6.0,>=0.4.0->langchain_chroma) (0.6.1)\n",
      "Requirement already satisfied: python-dotenv>=0.13 in /opt/miniconda3/lib/python3.12/site-packages (from uvicorn[standard]>=0.18.3->chromadb<0.6.0,>=0.4.0->langchain_chroma) (1.0.1)\n",
      "Requirement already satisfied: uvloop!=0.15.0,!=0.15.1,>=0.14.0 in /opt/miniconda3/lib/python3.12/site-packages (from uvicorn[standard]>=0.18.3->chromadb<0.6.0,>=0.4.0->langchain_chroma) (0.19.0)\n",
      "Requirement already satisfied: watchfiles>=0.13 in /opt/miniconda3/lib/python3.12/site-packages (from uvicorn[standard]>=0.18.3->chromadb<0.6.0,>=0.4.0->langchain_chroma) (0.22.0)\n",
      "Requirement already satisfied: websockets>=10.4 in /opt/miniconda3/lib/python3.12/site-packages (from uvicorn[standard]>=0.18.3->chromadb<0.6.0,>=0.4.0->langchain_chroma) (12.0)\n",
      "Requirement already satisfied: cachetools<6.0,>=2.0.0 in /opt/miniconda3/lib/python3.12/site-packages (from google-auth>=1.0.1->kubernetes>=28.1.0->chromadb<0.6.0,>=0.4.0->langchain_chroma) (5.4.0)\n",
      "Requirement already satisfied: pyasn1-modules>=0.2.1 in /opt/miniconda3/lib/python3.12/site-packages (from google-auth>=1.0.1->kubernetes>=28.1.0->chromadb<0.6.0,>=0.4.0->langchain_chroma) (0.4.0)\n",
      "Requirement already satisfied: rsa<5,>=3.1.4 in /opt/miniconda3/lib/python3.12/site-packages (from google-auth>=1.0.1->kubernetes>=28.1.0->chromadb<0.6.0,>=0.4.0->langchain_chroma) (4.9)\n",
      "Requirement already satisfied: filelock in /opt/miniconda3/lib/python3.12/site-packages (from huggingface-hub<1.0,>=0.16.4->tokenizers>=0.13.2->chromadb<0.6.0,>=0.4.0->langchain_chroma) (3.15.4)\n",
      "Requirement already satisfied: fsspec>=2023.5.0 in /opt/miniconda3/lib/python3.12/site-packages (from huggingface-hub<1.0,>=0.16.4->tokenizers>=0.13.2->chromadb<0.6.0,>=0.4.0->langchain_chroma) (2024.6.1)\n",
      "Requirement already satisfied: zipp>=0.5 in /opt/miniconda3/lib/python3.12/site-packages (from importlib-metadata<=7.1,>=6.0->opentelemetry-api>=1.2.0->chromadb<0.6.0,>=0.4.0->langchain_chroma) (3.19.2)\n",
      "Requirement already satisfied: charset-normalizer<4,>=2 in /opt/miniconda3/lib/python3.12/site-packages (from requests->kubernetes>=28.1.0->chromadb<0.6.0,>=0.4.0->langchain_chroma) (3.3.2)\n",
      "Requirement already satisfied: markdown-it-py>=2.2.0 in /opt/miniconda3/lib/python3.12/site-packages (from rich>=10.11.0->typer>=0.9.0->chromadb<0.6.0,>=0.4.0->langchain_chroma) (3.0.0)\n",
      "Requirement already satisfied: pygments<3.0.0,>=2.13.0 in /opt/miniconda3/lib/python3.12/site-packages (from rich>=10.11.0->typer>=0.9.0->chromadb<0.6.0,>=0.4.0->langchain_chroma) (2.18.0)\n",
      "Requirement already satisfied: humanfriendly>=9.1 in /opt/miniconda3/lib/python3.12/site-packages (from coloredlogs->onnxruntime>=1.14.1->chromadb<0.6.0,>=0.4.0->langchain_chroma) (10.0)\n",
      "Requirement already satisfied: mpmath<1.4,>=1.1.0 in /opt/miniconda3/lib/python3.12/site-packages (from sympy->onnxruntime>=1.14.1->chromadb<0.6.0,>=0.4.0->langchain_chroma) (1.3.0)\n",
      "Requirement already satisfied: mdurl~=0.1 in /opt/miniconda3/lib/python3.12/site-packages (from markdown-it-py>=2.2.0->rich>=10.11.0->typer>=0.9.0->chromadb<0.6.0,>=0.4.0->langchain_chroma) (0.1.2)\n",
      "Requirement already satisfied: pyasn1<0.7.0,>=0.4.6 in /opt/miniconda3/lib/python3.12/site-packages (from pyasn1-modules>=0.2.1->google-auth>=1.0.1->kubernetes>=28.1.0->chromadb<0.6.0,>=0.4.0->langchain_chroma) (0.6.0)\n",
      "Downloading langchain_chroma-0.1.2-py3-none-any.whl (9.3 kB)\n",
      "Downloading protobuf-4.25.4-cp37-abi3-macosx_10_9_universal2.whl (394 kB)\n",
      "\u001b[2K   \u001b[90m━━━━━━━━━━━━━━━━━━━━━━━━━━━━━━━━━━━━━━━━\u001b[0m \u001b[32m394.2/394.2 kB\u001b[0m \u001b[31m2.5 MB/s\u001b[0m eta \u001b[36m0:00:00\u001b[0m00:01\u001b[0m00:01\u001b[0m\n",
      "\u001b[?25hInstalling collected packages: protobuf, langchain_chroma\n",
      "  Attempting uninstall: protobuf\n",
      "    Found existing installation: protobuf 5.27.2\n",
      "    Uninstalling protobuf-5.27.2:\n",
      "      Successfully uninstalled protobuf-5.27.2\n",
      "\u001b[31mERROR: pip's dependency resolver does not currently take into account all the packages that are installed. This behaviour is the source of the following dependency conflicts.\n",
      "grpcio-status 1.64.1 requires protobuf<6.0dev,>=5.26.1, but you have protobuf 4.25.4 which is incompatible.\u001b[0m\u001b[31m\n",
      "\u001b[0mSuccessfully installed langchain_chroma-0.1.2 protobuf-4.25.4\n"
     ]
    }
   ],
   "source": [
    "! pip install langchain_chroma"
   ]
  },
  {
   "cell_type": "code",
   "execution_count": 26,
   "metadata": {},
   "outputs": [],
   "source": [
    "import uuid\n",
    "import langchain_chroma\n",
    "\n",
    "from langchain.retrievers.multi_vector import MultiVectorRetriever\n",
    "from langchain.storage import InMemoryStore\n",
    "from langchain_chroma import Chroma\n",
    "from langchain_core.documents import Document\n",
    "from langchain_openai import OpenAIEmbeddings"
   ]
  },
  {
   "cell_type": "code",
   "execution_count": 41,
   "metadata": {},
   "outputs": [],
   "source": [
    "def create_multi_vector_retriever(\n",
    "    vectorstore, text_summaries, texts, table_summaries, tables, image_summaries, images\n",
    "):\n",
    "    \"\"\"\n",
    "    Create retriever that indexes summaries, but returns raw images or texts\n",
    "    \"\"\"\n",
    "\n",
    "    # Initialize the storage layer\n",
    "    store = InMemoryStore()\n",
    "    id_key = \"doc_id\"\n",
    "\n",
    "    # Create the multi-vector retriever\n",
    "    retriever = MultiVectorRetriever(\n",
    "        vectorstore=vectorstore,\n",
    "        docstore=store,\n",
    "        id_key=id_key,\n",
    "    )\n",
    "\n",
    "    # Helper function to add documents to the vectorstore and docstore\n",
    "    def add_documents(retriever, doc_summaries, doc_contents):\n",
    "        doc_ids = [str(uuid.uuid4()) for _ in doc_contents]\n",
    "        summary_docs = [\n",
    "            Document(page_content=s, metadata={id_key: doc_ids[i]})\n",
    "            for i, s in enumerate(doc_summaries)\n",
    "        ]\n",
    "        retriever.vectorstore.add_documents(summary_docs)\n",
    "        retriever.docstore.mset(list(zip(doc_ids, doc_contents)))\n",
    "\n",
    "    # Add texts, tables, and images\n",
    "    # Check that text_summaries is not empty before adding\n",
    "    if text_summaries:\n",
    "        add_documents(retriever, text_summaries, texts)\n",
    "    # Check that table_summaries is not empty before adding\n",
    "    if table_summaries:\n",
    "        add_documents(retriever, table_summaries, tables)\n",
    "    # Check that image_summaries is not empty before adding\n",
    "    if image_summaries:\n",
    "        add_documents(retriever, image_summaries, images)\n",
    "\n",
    "    return retriever\n",
    "\n",
    "\n",
    "# The vectorstore to use to index the summaries\n",
    "vectorstore = Chroma(\n",
    "    collection_name=\"mm_rag_cj_blog\",\n",
    "    embedding_function=OpenAIEmbeddings(openai_api_key= api_key)\n",
    ")\n",
    "\n",
    "# Create retriever\n",
    "retriever_multi_vector_img = create_multi_vector_retriever(\n",
    "    vectorstore,\n",
    "    text_summaries,\n",
    "    texts,\n",
    "    table_summaries,\n",
    "    tables,\n",
    "    image_summaries,\n",
    "    img_base64_list,\n",
    ")"
   ]
  },
  {
   "cell_type": "markdown",
   "metadata": {},
   "source": [
    "##RAG, building portions of the retriever, that will take the documents and bin the retrieved doc(s) into the correct parts of the GPT-4o-mini prompt template"
   ]
  },
  {
   "cell_type": "code",
   "execution_count": 42,
   "metadata": {},
   "outputs": [],
   "source": [
    "import io\n",
    "import re\n",
    "\n",
    "from IPython.display import HTML, display\n",
    "from langchain_core.runnables import RunnableLambda, RunnablePassthrough\n",
    "from PIL import Image"
   ]
  },
  {
   "cell_type": "code",
   "execution_count": 43,
   "metadata": {},
   "outputs": [],
   "source": [
    "def plt_img_base64(img_base64):\n",
    "    \"\"\"Disply base64 encoded string as image\"\"\"\n",
    "    # Create an HTML img tag with the base64 string as the source\n",
    "    image_html = f'<img src=\"data:image/jpeg;base64,{img_base64}\" />'\n",
    "    # Display the image by rendering the HTML\n",
    "    display(HTML(image_html))\n",
    "\n",
    "\n",
    "def looks_like_base64(sb):\n",
    "    \"\"\"Check if the string looks like base64\"\"\"\n",
    "    return re.match(\"^[A-Za-z0-9+/]+[=]{0,2}$\", sb) is not None\n",
    "\n",
    "\n",
    "def is_image_data(b64data):\n",
    "    \"\"\"\n",
    "    Check if the base64 data is an image by looking at the start of the data\n",
    "    \"\"\"\n",
    "    image_signatures = {\n",
    "        b\"\\xff\\xd8\\xff\": \"jpg\",\n",
    "        b\"\\x89\\x50\\x4e\\x47\\x0d\\x0a\\x1a\\x0a\": \"png\",\n",
    "        b\"\\x47\\x49\\x46\\x38\": \"gif\",\n",
    "        b\"\\x52\\x49\\x46\\x46\": \"webp\",\n",
    "    }\n",
    "    try:\n",
    "        header = base64.b64decode(b64data)[:8]  # Decode and get the first 8 bytes\n",
    "        for sig, format in image_signatures.items():\n",
    "            if header.startswith(sig):\n",
    "                return True\n",
    "        return False\n",
    "    except Exception:\n",
    "        return False\n",
    "\n",
    "\n",
    "def resize_base64_image(base64_string, size=(128, 128)):\n",
    "    \"\"\"\n",
    "    Resize an image encoded as a Base64 string\n",
    "    \"\"\"\n",
    "    # Decode the Base64 string\n",
    "    img_data = base64.b64decode(base64_string)\n",
    "    img = Image.open(io.BytesIO(img_data))\n",
    "\n",
    "    # Resize the image\n",
    "    resized_img = img.resize(size, Image.LANCZOS)\n",
    "\n",
    "    # Save the resized image to a bytes buffer\n",
    "    buffered = io.BytesIO()\n",
    "    resized_img.save(buffered, format=img.format)\n",
    "\n",
    "    # Encode the resized image to Base64\n",
    "    return base64.b64encode(buffered.getvalue()).decode(\"utf-8\")\n",
    "\n",
    "\n",
    "def split_image_text_types(docs):\n",
    "    \"\"\"\n",
    "    Split base64-encoded images and texts\n",
    "    \"\"\"\n",
    "    b64_images = []\n",
    "    texts = []\n",
    "    for doc in docs:\n",
    "        # Check if the document is of type Document and extract page_content if so\n",
    "        if isinstance(doc, Document):\n",
    "            doc = doc.page_content\n",
    "        if looks_like_base64(doc) and is_image_data(doc):\n",
    "            doc = resize_base64_image(doc, size=(1300, 600))\n",
    "            b64_images.append(doc)\n",
    "        else:\n",
    "            texts.append(doc)\n",
    "    return {\"images\": b64_images, \"texts\": texts}"
   ]
  },
  {
   "cell_type": "code",
   "execution_count": 44,
   "metadata": {},
   "outputs": [],
   "source": [
    "def img_prompt_func(data_dict):\n",
    "    \"\"\"\n",
    "    Join the context into a single string\n",
    "    \"\"\"\n",
    "    formatted_texts = \"\\n\".join(data_dict[\"context\"][\"texts\"])\n",
    "    messages = []\n",
    "\n",
    "    # Adding image(s) to the messages if present\n",
    "    if data_dict[\"context\"][\"images\"]:\n",
    "        for image in data_dict[\"context\"][\"images\"]:\n",
    "            image_message = {\n",
    "                \"type\": \"image_url\",\n",
    "                \"image_url\": {\"url\": f\"data:image/jpeg;base64,{image}\"},\n",
    "            }\n",
    "            messages.append(image_message)\n",
    "\n",
    "    # Adding the text for analysis\n",
    "    text_message = {\n",
    "        \"type\": \"text\",\n",
    "        \"text\": (\n",
    "            \"You are a teaching assistant for a foundations of machine learning class tasked with answering student questions related to the concepts.\\n\"\n",
    "            \"You will be given a mixed of text, tables, and image(s) usually of charts or graphs.\\n\"\n",
    "            \"Use this information to provide machine learning advice and concept clarification related to the user question. \\n\"\n",
    "            f\"User-provided question: {data_dict['question']}\\n\\n\"\n",
    "            \"Text and / or tables:\\n\"\n",
    "            f\"{formatted_texts}\"\n",
    "        ),\n",
    "    }\n",
    "    messages.append(text_message)\n",
    "    return [HumanMessage(content=messages)]\n",
    "\n",
    "\n",
    "def multi_modal_rag_chain(retriever):\n",
    "    \"\"\"\n",
    "    Multi-modal RAG chain\n",
    "    \"\"\"\n",
    "\n",
    "    # Multi-modal LLM\n",
    "    model = ChatOpenAI(api_key=api_key,temperature=0, model=\"gpt-4o-mini\", max_tokens=1024)\n",
    "\n",
    "    # RAG pipeline\n",
    "    chain = (\n",
    "        {\n",
    "            \"context\": retriever | RunnableLambda(split_image_text_types),\n",
    "            \"question\": RunnablePassthrough(),\n",
    "        }\n",
    "        | RunnableLambda(img_prompt_func)\n",
    "        | model\n",
    "        | StrOutputParser()\n",
    "    )\n",
    "\n",
    "    return chain\n",
    "\n",
    "\n",
    "# Create RAG chain\n",
    "chain_multimodal_rag = multi_modal_rag_chain(retriever_multi_vector_img)"
   ]
  },
  {
   "cell_type": "markdown",
   "metadata": {},
   "source": [
    "##Checking its utility"
   ]
  },
  {
   "cell_type": "code",
   "execution_count": 48,
   "metadata": {},
   "outputs": [
    {
     "data": {
      "text/plain": [
       "4"
      ]
     },
     "execution_count": 48,
     "metadata": {},
     "output_type": "execute_result"
    }
   ],
   "source": [
    "# Check retrieval\n",
    "query = \"What is clustering in Machine Learning?\"\n",
    "docs = retriever_multi_vector_img.invoke(query, limit=6)\n",
    "\n",
    "# We get 4 docs\n",
    "len(docs)"
   ]
  },
  {
   "cell_type": "code",
   "execution_count": 49,
   "metadata": {},
   "outputs": [
    {
     "data": {
      "text/plain": [
       "['Unsupervised machine learning\\n\\nThe data inputs have (x) no target outputs (y)\\n\\nInput x: Voter\\n\\n?\\n\\nOutput y: Not given (To be discovered)\\n\\nWe want to impose structure on the inputs (x)to say something meaningful about the data\\n\\n7\\n\\nWhat is clustering?\\n\\n1. Technique for finding similarity between groups\\n\\n2. Type of unsupervised machine learning\\n\\n• Not the only class of unsupervised learning algorithms\\n\\n3. Similarity needs to be defined\\n\\nWill depend on attributes of data • Usually a distance metric\\n\\nKey assumption: data points that are “closer” together are related or similar\\n\\n8\\n\\nC\\n\\nGE Capital case study: grouping clients\\n\\nHaimowitz and Schwarz 1997 paper on clustering for credit line optimization – http://www.aaai.org/Papers/Workshops/1997/\\n\\nWS-97-07/WS97-07-006.pdf\\n\\n• Cluster existing GE Capital customers based on similarity in use of their credit cards to pay bills and customers’ profitability to GE Capital\\n\\n• Resulted in five clusters of consumer credit behavior\\n\\n* New credit applicant, with culprit bates date ® P, C, SSE. Px ee Delinquency ee Spending Revolving Figure 1: Clustering-based framework for optimizing a credit policy.\\n\\n• Created classification model to predict customer type and offer tailored products\\n\\n9\\n\\nConcept summary',\n",
       " 'Machine Learning Overview, EDA and Clustering\\n\\nMachine Learning Overview, EDA and Clustering Brian Wright brianwright@virginia.edu\\n\\nBrian Wright\\n\\nbrianwright@virginia.edu\\n\\nReeveuvasn 3 PRACTICE OF DATA SCIENCE\\n\\nCLASSICAL MACHINE LEARNING Data is on eal or numerical SUPERVISED Predict 5 Predict t al: a number SSIFICATION the socks by color» 2 ‘eB / REGRESSION «Divide the ties by Length» UNSUPERVISED Identify Sequences Divide by similarity Find hidden dependencies CLUSTERING «Split up similar clothing into Stacks” ci ASSOCIATION _—_ «Find what clothes | often = (: ; Wear togethern + = 2 °.m= DIMENSION REDUCTION (generalization) «Make the best outfits from the given clothes»\\n\\n2\\n\\nExample of K-Means\\n\\nGiven D :{2,4,10,12,3,11,20,25,30}, and k=2 clusters Randomly assign the means: m1=3, m2=4 K1={2,3}, K2={4,10,12,11,20,25,30}, m1=2.5, m2=16 K1={2,3,4}, K2={10,12,11,20,25,30}, m1=3, m2=18 K1={2,3,4,10}, K2={12,11,20,25,30}, m1=4.75, m2=19.6 K1={2,3,4,10,11,12}, K2={20,25,30}, m1=7, m2=25 K1={2,3,4,10,11,12}, K2={20,25,30}, m1=7, m2=25 Stop, since the clusters and the means found in all subsequent iterations will be the same.\\n\\n3\\n\\nOutline: Intro to Unsupervised ML\\n\\n1. What is Machine Learning? 2. What is exploratory data analysis? 3. k-means clustering\\n\\n– Does Congress vote in patterns?\\n\\n4. Multi-dimensional k-means clustering\\n\\n– Are NBA players compensated according to performance?\\n\\n4\\n\\nWhat is exploratory data analysis?\\n\\n• Exploratory data analysis or “EDA” is an approach where the intent is to see\\n\\nwhat the data can tell us beyond modeling or hypothesis testing – Data visualization is one of the most common forms of EDA\\n\\n5\\n\\nTypes of exploratory data analysis\\n\\nWhen data is too big or complex to be analyzed just by visualizing it, these types of analysis can help:\\n\\n1. Clustering: compare pieces of data by measuring similarity among them\\n\\n2. Network analysis: analyze how people, places and entities are connected to evaluate the properties and structure of a network\\n\\n3. Text mining: analyze what large bodies of unstructured or structured text say\\n\\niteration ise Giakeneth . Journalists: “BBC digital =.\\n\\n6',\n",
       " 'Example use case General question Does Congress vote in patterns? Is there a pattern? Is there structure in unstructured data? Are basketball players \"priced\" efficiently (based on performance)? How to uncover trends with many variables that you can\\'t easily visualize? Concept k-means clustering k-means clustering in many dimensions',\n",
       " 'theme_light()\\n\\nTheme\\n\\nC o s m e t i c s l a y e r\\n\\n32\\n\\nStep 5: validate results\\n\\nNumber of Nay Votes Aye vs. Nay votes for Democrat-introduced bills 160 Cluster 1 Cluster 1 140 2 Cluster 2 @ Republican 100 S Democratic 60 80 100 120 Number of Aye Votes\\n\\n33\\n\\nStep 6: interpret results\\n\\n• Diffuse among Democrats\\n\\nAye vs. Nay votes for Democrat-introduced bills ® ° | Cluster 1 a rs - 2 Cluster 2 Z ‘6 12042 ® Party E Oo Republican 7 100 Oo Democratic\\n\\n• Republicans more dense\\n\\n• Can gauge “outliers”  • Can see the polarization   between the two political parties  \\n\\n34\\n\\nClustering vs. visualizing\\n\\n• Clustering is more powerful than the human eye in 3D\\n\\n• Clustering mathematically defines which cluster the peripheral points should be in when it’s not obvious to the human eye\\n\\n• Clustering is helpful when many\\n\\ndimensions / variables exist that you can’t visualize at once – Whiskey similarity example from\\n\\nclassification lecture\\n\\nAye, Nay and Other Votes in House of Representatives\\n\\nin House of Representatives other 312.p0\\n\\n35\\n\\nHow good is the clustering?\\n\\n• Goals of clustering:\\n\\n– Maximize the separation between clusters   • i.e. Maximize inter-cluster distance   – Keep similar points in a  cluster close together  • i.e. Minimize intra-cluster distance \\n\\nDistance pee, ae oy te : af 10 Le PG ot 4 ar re Me Ld . e <* Oo NN ss. ° Cc ° ‘ \\\\ ee “° wet ee} . Inber-Clustep tt ttresseseecen2277 L) . Intra-Cluster Distance\\n\\n36\\n\\nHow good is the clustering?\\n\\nAssessing how well an algorithm performs\\n\\n• Look at the variance explained by\\n\\nclusters – In particular, the ratio of inter-cluster\\n\\nvariance to total variance\\n\\nVariation explained by clusters = inter-cluster variance / total variance\\n\\n• How much of the total variance is explained by the clustering?\\n\\no woe te ty ‘ 1 SS ° 4 tea de\\'S. 3 *. * Pe er ch . Lee eae °\" Intra-Cluster Distance ae eee ee betweenss Distance----\"7 = aa ° : Pod 2° 10 “a ry 20” see. ° Fa we ° ee Se withinss _---\" eee 0 10\\n\\n37\\n\\nkmeans outputs\\n\\n• cluster: a vector indicating the cluster to which each point is allocated\\n\\n• centers: a matrix of cluster centers\\n\\n• totss: the total sum of squares (sum of distances between all points)\\n\\n• withinss: vector of within-cluster sum of distances, one number per cluster\\n\\n• tot.withinss: total within-cluster sum of distances, i.e. sum of withinss\\n\\n• betweenss: the between-cluster sum of squares, i.e. totss - tot.withinss\\n\\n• size: the number of points in each cluster\\n\\nTo learn more about the kmeans function run ?kmeans\\n\\n38']"
      ]
     },
     "execution_count": 49,
     "metadata": {},
     "output_type": "execute_result"
    }
   ],
   "source": [
    "docs"
   ]
  },
  {
   "cell_type": "code",
   "execution_count": 51,
   "metadata": {},
   "outputs": [
    {
     "data": {
      "text/html": [
       "<img src=\"data:image/jpeg;base64,['Unsupervised machine learning\\n\\nThe data inputs have (x) no target outputs (y)\\n\\nInput x: Voter\\n\\n?\\n\\nOutput y: Not given (To be discovered)\\n\\nWe want to impose structure on the inputs (x)to say something meaningful about the data\\n\\n7\\n\\nWhat is clustering?\\n\\n1. Technique for finding similarity between groups\\n\\n2. Type of unsupervised machine learning\\n\\n• Not the only class of unsupervised learning algorithms\\n\\n3. Similarity needs to be defined\\n\\nWill depend on attributes of data • Usually a distance metric\\n\\nKey assumption: data points that are “closer” together are related or similar\\n\\n8\\n\\nC\\n\\nGE Capital case study: grouping clients\\n\\nHaimowitz and Schwarz 1997 paper on clustering for credit line optimization – http://www.aaai.org/Papers/Workshops/1997/\\n\\nWS-97-07/WS97-07-006.pdf\\n\\n• Cluster existing GE Capital customers based on similarity in use of their credit cards to pay bills and customers’ profitability to GE Capital\\n\\n• Resulted in five clusters of consumer credit behavior\\n\\n* New credit applicant, with culprit bates date ® P, C, SSE. Px ee Delinquency ee Spending Revolving Figure 1: Clustering-based framework for optimizing a credit policy.\\n\\n• Created classification model to predict customer type and offer tailored products\\n\\n9\\n\\nConcept summary', 'Machine Learning Overview, EDA and Clustering\\n\\nMachine Learning Overview, EDA and Clustering Brian Wright brianwright@virginia.edu\\n\\nBrian Wright\\n\\nbrianwright@virginia.edu\\n\\nReeveuvasn 3 PRACTICE OF DATA SCIENCE\\n\\nCLASSICAL MACHINE LEARNING Data is on eal or numerical SUPERVISED Predict 5 Predict t al: a number SSIFICATION the socks by color» 2 ‘eB / REGRESSION «Divide the ties by Length» UNSUPERVISED Identify Sequences Divide by similarity Find hidden dependencies CLUSTERING «Split up similar clothing into Stacks” ci ASSOCIATION _—_ «Find what clothes | often = (: ; Wear togethern + = 2 °.m= DIMENSION REDUCTION (generalization) «Make the best outfits from the given clothes»\\n\\n2\\n\\nExample of K-Means\\n\\nGiven D :{2,4,10,12,3,11,20,25,30}, and k=2 clusters Randomly assign the means: m1=3, m2=4 K1={2,3}, K2={4,10,12,11,20,25,30}, m1=2.5, m2=16 K1={2,3,4}, K2={10,12,11,20,25,30}, m1=3, m2=18 K1={2,3,4,10}, K2={12,11,20,25,30}, m1=4.75, m2=19.6 K1={2,3,4,10,11,12}, K2={20,25,30}, m1=7, m2=25 K1={2,3,4,10,11,12}, K2={20,25,30}, m1=7, m2=25 Stop, since the clusters and the means found in all subsequent iterations will be the same.\\n\\n3\\n\\nOutline: Intro to Unsupervised ML\\n\\n1. What is Machine Learning? 2. What is exploratory data analysis? 3. k-means clustering\\n\\n– Does Congress vote in patterns?\\n\\n4. Multi-dimensional k-means clustering\\n\\n– Are NBA players compensated according to performance?\\n\\n4\\n\\nWhat is exploratory data analysis?\\n\\n• Exploratory data analysis or “EDA” is an approach where the intent is to see\\n\\nwhat the data can tell us beyond modeling or hypothesis testing – Data visualization is one of the most common forms of EDA\\n\\n5\\n\\nTypes of exploratory data analysis\\n\\nWhen data is too big or complex to be analyzed just by visualizing it, these types of analysis can help:\\n\\n1. Clustering: compare pieces of data by measuring similarity among them\\n\\n2. Network analysis: analyze how people, places and entities are connected to evaluate the properties and structure of a network\\n\\n3. Text mining: analyze what large bodies of unstructured or structured text say\\n\\niteration ise Giakeneth . Journalists: “BBC digital =.\\n\\n6', 'Example use case General question Does Congress vote in patterns? Is there a pattern? Is there structure in unstructured data? Are basketball players \"priced\" efficiently (based on performance)? How to uncover trends with many variables that you can\\'t easily visualize? Concept k-means clustering k-means clustering in many dimensions', 'theme_light()\\n\\nTheme\\n\\nC o s m e t i c s l a y e r\\n\\n32\\n\\nStep 5: validate results\\n\\nNumber of Nay Votes Aye vs. Nay votes for Democrat-introduced bills 160 Cluster 1 Cluster 1 140 2 Cluster 2 @ Republican 100 S Democratic 60 80 100 120 Number of Aye Votes\\n\\n33\\n\\nStep 6: interpret results\\n\\n• Diffuse among Democrats\\n\\nAye vs. Nay votes for Democrat-introduced bills ® ° | Cluster 1 a rs - 2 Cluster 2 Z ‘6 12042 ® Party E Oo Republican 7 100 Oo Democratic\\n\\n• Republicans more dense\\n\\n• Can gauge “outliers”  • Can see the polarization   between the two political parties  \\n\\n34\\n\\nClustering vs. visualizing\\n\\n• Clustering is more powerful than the human eye in 3D\\n\\n• Clustering mathematically defines which cluster the peripheral points should be in when it’s not obvious to the human eye\\n\\n• Clustering is helpful when many\\n\\ndimensions / variables exist that you can’t visualize at once – Whiskey similarity example from\\n\\nclassification lecture\\n\\nAye, Nay and Other Votes in House of Representatives\\n\\nin House of Representatives other 312.p0\\n\\n35\\n\\nHow good is the clustering?\\n\\n• Goals of clustering:\\n\\n– Maximize the separation between clusters   • i.e. Maximize inter-cluster distance   – Keep similar points in a  cluster close together  • i.e. Minimize intra-cluster distance \\n\\nDistance pee, ae oy te : af 10 Le PG ot 4 ar re Me Ld . e <* Oo NN ss. ° Cc ° ‘ \\\\ ee “° wet ee} . Inber-Clustep tt ttresseseecen2277 L) . Intra-Cluster Distance\\n\\n36\\n\\nHow good is the clustering?\\n\\nAssessing how well an algorithm performs\\n\\n• Look at the variance explained by\\n\\nclusters – In particular, the ratio of inter-cluster\\n\\nvariance to total variance\\n\\nVariation explained by clusters = inter-cluster variance / total variance\\n\\n• How much of the total variance is explained by the clustering?\\n\\no woe te ty ‘ 1 SS ° 4 tea de\\'S. 3 *. * Pe er ch . Lee eae °\" Intra-Cluster Distance ae eee ee betweenss Distance----\"7 = aa ° : Pod 2° 10 “a ry 20” see. ° Fa we ° ee Se withinss _---\" eee 0 10\\n\\n37\\n\\nkmeans outputs\\n\\n• cluster: a vector indicating the cluster to which each point is allocated\\n\\n• centers: a matrix of cluster centers\\n\\n• totss: the total sum of squares (sum of distances between all points)\\n\\n• withinss: vector of within-cluster sum of distances, one number per cluster\\n\\n• tot.withinss: total within-cluster sum of distances, i.e. sum of withinss\\n\\n• betweenss: the between-cluster sum of squares, i.e. totss - tot.withinss\\n\\n• size: the number of points in each cluster\\n\\nTo learn more about the kmeans function run ?kmeans\\n\\n38']\" />"
      ],
      "text/plain": [
       "<IPython.core.display.HTML object>"
      ]
     },
     "metadata": {},
     "output_type": "display_data"
    }
   ],
   "source": [
    "# We get back relevant images\n",
    "plt_img_base64(docs)"
   ]
  },
  {
   "cell_type": "code",
   "execution_count": 55,
   "metadata": {},
   "outputs": [
    {
     "data": {
      "text/html": [
       "<img src=\"data:image/jpeg;base64,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\" />"
      ],
      "text/plain": [
       "<IPython.core.display.HTML object>"
      ]
     },
     "metadata": {},
     "output_type": "display_data"
    }
   ],
   "source": [
    "plt_img_base64(img_base64_list[6])"
   ]
  },
  {
   "cell_type": "code",
   "execution_count": 56,
   "metadata": {},
   "outputs": [
    {
     "data": {
      "text/plain": [
       "'Scatter plot depicting the relationship between Aye and Nay votes in the House of Representatives. The x-axis represents the number of Aye votes, while the y-axis indicates the number of Nay votes. The data points are scattered, showing a general trend of decreasing Nay votes as Aye votes increase.'"
      ]
     },
     "execution_count": 56,
     "metadata": {},
     "output_type": "execute_result"
    }
   ],
   "source": [
    "image_summaries[6]"
   ]
  },
  {
   "cell_type": "markdown",
   "metadata": {},
   "source": [
    "##Running RAG to see if it will find an answer to our query"
   ]
  },
  {
   "cell_type": "code",
   "execution_count": 57,
   "metadata": {},
   "outputs": [
    {
     "data": {
      "text/plain": [
       "'Clustering is a fundamental concept in machine learning, particularly within the realm of unsupervised learning. Here’s a breakdown of what clustering entails based on the information provided:\\n\\n### What is Clustering?\\n\\n1. **Definition**: Clustering is a technique used to group a set of objects in such a way that objects in the same group (or cluster) are more similar to each other than to those in other groups. This similarity is often defined using a distance metric, which quantifies how close or far apart the data points are in the feature space.\\n\\n2. **Unsupervised Learning**: Clustering falls under the category of unsupervised machine learning, meaning that it does not rely on labeled output data (i.e., there are no predefined categories or target outputs). Instead, the goal is to discover the inherent structure of the data.\\n\\n3. **Similarity Measurement**: The effectiveness of clustering depends on how similarity is defined. Common distance metrics include Euclidean distance, Manhattan distance, and cosine similarity, among others. The choice of metric can significantly influence the resulting clusters.\\n\\n4. **Key Assumption**: A fundamental assumption in clustering is that data points that are \"closer\" together in the feature space are related or similar. This is crucial for the clustering algorithm to function effectively.\\n\\n### Example of Clustering: K-Means\\n\\nOne of the most popular clustering algorithms is **K-Means**. Here’s a brief overview of how it works:\\n\\n- **Initialization**: Choose a number of clusters (k) and randomly initialize the cluster centroids.\\n- **Assignment Step**: Assign each data point to the nearest cluster centroid based on the defined distance metric.\\n- **Update Step**: Recalculate the centroids of the clusters based on the current assignments.\\n- **Iteration**: Repeat the assignment and update steps until the centroids no longer change significantly, indicating that the clusters have stabilized.\\n\\n### Use Case Example\\n\\nIn the GE Capital case study mentioned, clustering was used to group clients based on their credit card usage and profitability. This resulted in distinct clusters of consumer credit behavior, which allowed for tailored product offerings based on the identified customer types.\\n\\n### Goals of Clustering\\n\\n- **Maximize Separation**: The goal is to maximize the distance between different clusters (inter-cluster distance).\\n- **Minimize Intra-Cluster Distance**: At the same time, the algorithm aims to keep similar points close together within the same cluster (intra-cluster distance).\\n\\n### Evaluation of Clustering\\n\\nTo assess the quality of clustering, one can look at metrics such as:\\n- **Inter-cluster variance**: Measures how distinct the clusters are from each other.\\n- **Intra-cluster variance**: Measures how compact the clusters are.\\n- The ratio of inter-cluster variance to total variance can provide insights into how well the clustering has captured the structure of the data.\\n\\nIn summary, clustering is a powerful tool in machine learning for uncovering patterns and structures in data without predefined labels, making it invaluable for exploratory data analysis and various practical applications.'"
      ]
     },
     "execution_count": 57,
     "metadata": {},
     "output_type": "execute_result"
    }
   ],
   "source": [
    "# Run RAG chain\n",
    "chain_multimodal_rag.invoke(query)"
   ]
  }
 ],
 "metadata": {
  "kernelspec": {
   "display_name": "base",
   "language": "python",
   "name": "python3"
  },
  "language_info": {
   "codemirror_mode": {
    "name": "ipython",
    "version": 3
   },
   "file_extension": ".py",
   "mimetype": "text/x-python",
   "name": "python",
   "nbconvert_exporter": "python",
   "pygments_lexer": "ipython3",
   "version": "3.12.2"
  }
 },
 "nbformat": 4,
 "nbformat_minor": 2
}
